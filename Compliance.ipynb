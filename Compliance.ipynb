{
 "cells": [
  {
   "cell_type": "markdown",
   "id": "dc43439a",
   "metadata": {},
   "source": [
    "# Process Mining with PM4Py: Inductive Miner Variants\n",
    "\n",
    "This notebook demonstrates how to create different process models using various inductive miner implementations available in PM4Py. We'll use the filtered XES logs that were created during the preprocessing stage."
   ]
  },
  {
   "cell_type": "code",
   "execution_count": 1,
   "id": "8b8a37f4",
   "metadata": {},
   "outputs": [],
   "source": [
    "# Import required libraries\n",
    "import os\n",
    "import pm4py\n",
    "import matplotlib.pyplot as plt\n",
    "import datetime\n",
    "import subprocess\n",
    "import sys\n",
    "\n",
    "from pm4py.objects.log.importer.xes import importer as xes_importer\n",
    "from pm4py.algo.discovery.inductive import algorithm as inductive_miner\n",
    "from pm4py.visualization.process_tree import visualizer as pt_visualizer\n",
    "from pm4py.visualization.petri_net import visualizer as pn_visualizer\n",
    "from pm4py.algo.evaluation.replay_fitness import algorithm as replay_fitness\n",
    "from pm4py.algo.evaluation.precision import algorithm as precision_evaluator\n",
    "from pm4py.algo.evaluation.generalization import algorithm as generalization_evaluator\n",
    "from pm4py.algo.evaluation.simplicity import algorithm as simplicity_evaluator\n",
    "\n",
    "# Set up the path to the data folder\n",
    "data_folder = './data/filtered'"
   ]
  },
  {
   "cell_type": "code",
   "execution_count": 2,
   "id": "2612daf6",
   "metadata": {},
   "outputs": [
    {
     "name": "stdout",
     "output_type": "stream",
     "text": [
      "Found 4 filtered XES files: ['group_consignment.xes', 'group_2_way.xes', 'group_3_way_after.xes', 'group_3_way_before.xes']\n"
     ]
    }
   ],
   "source": [
    "# Check if there are any XES files in the filtered data folder\n",
    "xes_files = [f for f in os.listdir(data_folder) if f.endswith('.xes')] if os.path.exists(data_folder) else []\n",
    "\n",
    "if not xes_files:\n",
    "    print(\"No filtered XES files found. Running log preprocessing script...\")\n",
    "    \n",
    "    # Check if the main BPI Challenge file exists\n",
    "    main_file = './data/BPI_Challenge_2019.xes'\n",
    "    if not os.path.exists(main_file):\n",
    "        raise FileNotFoundError(f\"Main BPI Challenge file not found at: {main_file}\")\n",
    "    \n",
    "    # Run the log preprocessing script\n",
    "    try:\n",
    "        print(\"Executing log_preprocessing.py...\")\n",
    "        result = subprocess.run([sys.executable, 'log_preprocessing.py'], \n",
    "                              capture_output=True, text=True, cwd='.')\n",
    "        \n",
    "        if result.returncode == 0:\n",
    "            print(\"Log preprocessing completed successfully!\")\n",
    "            print(\"STDOUT:\", result.stdout)\n",
    "        else:\n",
    "            print(\"Log preprocessing failed!\")\n",
    "            print(\"STDERR:\", result.stderr)\n",
    "            print(\"STDOUT:\", result.stdout)\n",
    "            raise RuntimeError(f\"Log preprocessing script failed with return code {result.returncode}\")\n",
    "            \n",
    "    except Exception as e:\n",
    "        print(f\"Error running log preprocessing: {str(e)}\")\n",
    "        raise\n",
    "    \n",
    "    # Verify that files were created\n",
    "    xes_files = [f for f in os.listdir(data_folder) if f.endswith('.xes')] if os.path.exists(data_folder) else []\n",
    "    if not xes_files:\n",
    "        raise FileNotFoundError(\"Log preprocessing completed but no XES files were created in the filtered folder\")\n",
    "    \n",
    "print(f\"Found {len(xes_files)} filtered XES files: {xes_files}\")"
   ]
  },
  {
   "cell_type": "markdown",
   "id": "85e16b22",
   "metadata": {},
   "source": [
    "# 1. Helper functions"
   ]
  },
  {
   "cell_type": "code",
   "execution_count": 3,
   "id": "9344e986",
   "metadata": {},
   "outputs": [],
   "source": [
    "def load_log(log_file_path):\n",
    "    \"\"\"\n",
    "    Load an XES log file\n",
    "    \n",
    "    Args:\n",
    "        log_file_path: Path to the XES file\n",
    "        \n",
    "    Returns:\n",
    "        PM4Py event log object\n",
    "    \"\"\"\n",
    "    print(f\"Loading log: {log_file_path}\")\n",
    "    log = xes_importer.apply(log_file_path)\n",
    "    print(f\"Log loaded with {len(log)} cases and {sum(len(case) for case in log)} events\")\n",
    "    return log\n",
    "\n",
    "def load_logs_from_folder(folder_path):\n",
    "    \"\"\"\n",
    "    Load all XES logs from a specified folder\n",
    "    \n",
    "    Args:\n",
    "        folder_path: Path to the folder containing XES files\n",
    "        \n",
    "    Returns:\n",
    "        List of PM4Py event log objects\n",
    "    \"\"\"\n",
    "    logs = []\n",
    "    for filename in os.listdir(folder_path):\n",
    "        if filename.endswith('.xes'):\n",
    "            log_path = os.path.join(folder_path, filename)\n",
    "            log = load_log(log_path)\n",
    "            logs.append((filename, log))\n",
    "    return logs\n",
    "\n",
    "\n",
    "def discover_models(log, variant_name, variant):\n",
    "    \"\"\"\n",
    "    Discover process models using the specified algorithm variant\n",
    "    \n",
    "    Args:\n",
    "        log: PM4Py event log\n",
    "        variant_name: String name of the variant (for display)\n",
    "        variant: The actual algorithm variant to use\n",
    "        \n",
    "    Returns:\n",
    "        Tuple containing process tree and Petri net with initial and final markings\n",
    "    \"\"\"\n",
    "    print(f\"\\nDiscovering models using {variant_name}...\")\n",
    "    \n",
    "    # Discover process tree\n",
    "    process_tree = inductive_miner.apply(log, variant=variant)\n",
    "    \n",
    "    # Convert to Petri net for visualization and conformance checking\n",
    "    net, initial_marking, final_marking = pm4py.convert_to_petri_net(process_tree)\n",
    "    \n",
    "    return process_tree, net, initial_marking, final_marking\n",
    "\n",
    "def visualize_models(process_tree, net, initial_marking, final_marking, variant_name, output_folder=None):\n",
    "    \"\"\"\n",
    "    Visualize both process tree and Petri net models\n",
    "    \n",
    "    Args:\n",
    "        process_tree: The process tree model\n",
    "        net: The Petri net\n",
    "        initial_marking: Initial marking for the Petri net\n",
    "        final_marking: Final marking for the Petri net\n",
    "        variant_name: String name of the variant (for display and filenames)\n",
    "        output_folder: Folder to save visualizations (if None, just display)\n",
    "    \"\"\"\n",
    "    # Visualize process tree\n",
    "    pt_gviz = pt_visualizer.apply(process_tree)\n",
    "    \n",
    "    # Visualize Petri net\n",
    "    parameters = {pn_visualizer.Variants.WO_DECORATION.value.Parameters.FORMAT: \"png\"}\n",
    "    pn_gviz = pn_visualizer.apply(net, initial_marking, final_marking, parameters=parameters)\n",
    "\n",
    "    # Display visualizations\n",
    "    if output_folder:\n",
    "        os.makedirs(output_folder, exist_ok=True)\n",
    "        pt_visualizer.save(pt_gviz, os.path.join(output_folder, f\"process_tree_{variant_name}.png\"))\n",
    "        pn_visualizer.save(pn_gviz, os.path.join(output_folder, f\"petri_net_{variant_name}.png\"))\n",
    "        print(f\"Visualizations saved to {output_folder} for {variant_name}\")\n",
    "    else:\n",
    "        pt_visualizer.view(pt_gviz)\n",
    "        pn_visualizer.view(pn_gviz)\n",
    "\n",
    "def process_group(log, log_name, output_folder=None):\n",
    "    \"\"\"\n",
    "    Process a log using different inductive miner variants\n",
    "    \n",
    "    Args:\n",
    "        log: PM4Py event log object\n",
    "        log_name: Name of the log file (without path)\n",
    "        output_folder: Folder to save visualizations\n",
    "    \n",
    "    Returns:\n",
    "        List of evaluation metrics for each variant\n",
    "    \"\"\"\n",
    "    # If output folder is specified, create a subfolder for this log\n",
    "    if output_folder:\n",
    "        group_output_folder = os.path.join(output_folder, log_name.replace('.xes', ''))\n",
    "        os.makedirs(group_output_folder, exist_ok=True)\n",
    "    else:\n",
    "        group_output_folder = None\n",
    "    \n",
    "    # List of variants to try\n",
    "    variants = [\n",
    "        ('IM', inductive_miner.Variants.IM),\n",
    "        ('IMf', inductive_miner.Variants.IMf),\n",
    "        ('IMd', inductive_miner.Variants.IMd)\n",
    "    ]\n",
    "    \n",
    "    all_metrics = []\n",
    "    \n",
    "    # Process each variant\n",
    "    for variant_name, variant in variants:\n",
    "        # Discover models\n",
    "        process_tree, net, initial_marking, final_marking = discover_models(log, variant_name, variant)\n",
    "        \n",
    "        # Visualize models\n",
    "        visualize_models(process_tree, net, initial_marking, final_marking, variant_name, group_output_folder)\n",
    "        \n",
    "    return all_metrics\n",
    "\n"
   ]
  },
  {
   "cell_type": "markdown",
   "id": "02d124e4",
   "metadata": {},
   "source": [
    "## Process Group Loading and Preprocessing\n",
    "\n",
    "This section loads and preprocesses the filtered XES log files from the data directory. The logs are organized by procurement process type (consignment, 2-way match, 3-way match variants) and loaded into memory for efficient processing across different analysis tasks.\n",
    "\n",
    "**Key Operations:**\n",
    "- **Log Discovery**: Identifies all XES files in the filtered data directory\n",
    "- **Memory Loading**: Loads all logs into a dictionary structure for quick access\n",
    "- **Group Mapping**: Creates consistent naming conventions between filenames and group identifiers\n",
    "- **Data Validation**: Ensures all expected log files are present and accessible\n",
    "\n",
    "**Output Structure:**\n",
    "- `logs` dictionary: Contains loaded PM4Py log objects indexed by both filename and group name\n",
    "- `file_to_group` mapping: Provides clean group names for analysis and visualization\n",
    "- Console output showing discovered files and loading progress\n",
    "\n",
    "This preprocessing step enables efficient batch processing of multiple process variants in subsequent analysis cells."
   ]
  },
  {
   "cell_type": "code",
   "execution_count": null,
   "id": "835a5397",
   "metadata": {},
   "outputs": [
    {
     "name": "stdout",
     "output_type": "stream",
     "text": [
      "Found 4 XES files in ./data/filtered:\n",
      "  - group_consignment.xes\n",
      "  - group_2_way.xes\n",
      "  - group_3_way_after.xes\n",
      "  - group_3_way_before.xes\n",
      "Loading log: ./data/filtered/group_consignment.xes\n"
     ]
    },
    {
     "data": {
      "application/vnd.jupyter.widget-view+json": {
       "model_id": "a2dc39ebb326473cb08ad83135f28d06",
       "version_major": 2,
       "version_minor": 0
      },
      "text/plain": [
       "parsing log, completed traces ::   0%|          | 0/11698 [00:00<?, ?it/s]"
      ]
     },
     "metadata": {},
     "output_type": "display_data"
    },
    {
     "name": "stdout",
     "output_type": "stream",
     "text": [
      "Log loaded with 11698 cases and 26953 events\n",
      "Loading log: ./data/filtered/group_2_way.xes\n"
     ]
    },
    {
     "data": {
      "application/vnd.jupyter.widget-view+json": {
       "model_id": "3259717022f840118c87373caf251c28",
       "version_major": 2,
       "version_minor": 0
      },
      "text/plain": [
       "parsing log, completed traces ::   0%|          | 0/289 [00:00<?, ?it/s]"
      ]
     },
     "metadata": {},
     "output_type": "display_data"
    },
    {
     "name": "stdout",
     "output_type": "stream",
     "text": [
      "Log loaded with 289 cases and 765 events\n",
      "Loading log: ./data/filtered/group_3_way_after.xes\n"
     ]
    },
    {
     "data": {
      "application/vnd.jupyter.widget-view+json": {
       "model_id": "44f0518e0e634a779b1216c675689315",
       "version_major": 2,
       "version_minor": 0
      },
      "text/plain": [
       "parsing log, completed traces ::   0%|          | 0/13035 [00:00<?, ?it/s]"
      ]
     },
     "metadata": {},
     "output_type": "display_data"
    },
    {
     "name": "stdout",
     "output_type": "stream",
     "text": [
      "Log loaded with 13035 cases and 282861 events\n",
      "Loading log: ./data/filtered/group_3_way_before.xes\n"
     ]
    },
    {
     "data": {
      "application/vnd.jupyter.widget-view+json": {
       "model_id": "e4c22f27aea1412a9ef68a2f64d11821",
       "version_major": 2,
       "version_minor": 0
      },
      "text/plain": [
       "parsing log, completed traces ::   0%|          | 0/174845 [00:00<?, ?it/s]"
      ]
     },
     "metadata": {},
     "output_type": "display_data"
    },
    {
     "name": "stdout",
     "output_type": "stream",
     "text": [
      "Log loaded with 174845 cases and 954404 events\n"
     ]
    }
   ],
   "source": [
    "# Find all XES files in the data folder\n",
    "\n",
    "print(f\"Found {len(xes_files)} XES files in {data_folder}:\")\n",
    "for f in xes_files:\n",
    "    print(f\"  - {f}\")\n",
    "\n",
    "# Load all logs into memory once\n",
    "logs = {}\n",
    "for xes_file in xes_files:\n",
    "    group_name = xes_file.replace('.xes', '').replace('group_', '')\n",
    "    log_path = os.path.join(data_folder, xes_file)\n",
    "    logs[group_name] = load_log(log_path)\n",
    "    logs[xes_file] = logs[group_name]  # Also store with original filename as key for backwards compatibility\n",
    "    \n",
    "# Create a mapping from filename to group name for easier reference\n",
    "file_to_group = {xes_file: xes_file.replace('.xes', '').replace('group_', '') for xes_file in xes_files}"
   ]
  },
  {
   "cell_type": "markdown",
   "id": "f0209ae2",
   "metadata": {},
   "source": [
    "## 2.2 Compliant Log Selection for Process Discovery\n",
    "\n",
    "After comprehensive compliance analysis and successful export of both compliant and non-compliant case datasets, we now select the appropriate logs for process discovery analysis. Based on our enhanced compliance framework that evaluates both process flow adherence and financial consistency, we have several dataset options available:\n",
    "\n",
    "**Dataset Selection Rationale:**\n",
    "\n",
    "For the inductive miner variant comparison (IM, IMf, IMd), we will utilize the **compliant logs** as they provide:\n",
    "\n",
    "- **Clean Process Patterns**: Cases following correct activity sequences for their respective procurement types\n",
    "- **Financial Consistency**: Validated cost alignment across purchase orders, goods receipts, and invoices  \n",
    "- **Reduced Model Complexity**: Elimination of exceptional cases that could introduce noise in process discovery\n",
    "- **Reliable Conformance Metrics**: Baseline models that represent ideal process execution for comparison\n",
    "\n",
    "**Selected Logs for Analysis:**\n",
    "- `compliant_consignment.xes`: {compliant_logs['consignment'].__len__() if 'consignment' in compliant_logs else 0:,} cases\n",
    "- `compliant_2_way.xes`: {compliant_logs['2_way'].__len__() if '2_way' in compliant_logs else 0:,} cases  \n",
    "- `compliant_3_way_after.xes`: {compliant_logs['3_way_after'].__len__() if '3_way_after' in compliant_logs else 0:,} cases\n",
    "- `compliant_3_way_before.xes`: {compliant_logs['3_way_before'].__len__() if '3_way_before' in compliant_logs else 0:,} cases\n",
    "\n",
    "These compliant datasets will serve as the foundation for discovering normative process models using different inductive miner algorithms, enabling meaningful comparison of model quality, fitness, precision, and generalization across variants."
   ]
  },
  {
   "cell_type": "code",
   "execution_count": null,
   "id": "15405c85",
   "metadata": {},
   "outputs": [
    {
     "name": "stdout",
     "output_type": "stream",
     "text": [
      "\n",
      "Applying activity order-based reclassification...\n",
      "\n",
      "================================================================================\n",
      "RECLASSIFYING CASES BASED ON ACTUAL ACTIVITY ORDER\n",
      "================================================================================\n",
      "\n",
      "Processing group_consignment.xes (original category: consignment)...\n",
      "  Reclassification changes in group_consignment.xes:\n",
      "    consignment -> other: 623 cases\n",
      "\n",
      "Processing group_2_way.xes (original category: 2_way)...\n",
      "  Reclassification changes in group_2_way.xes:\n",
      "    2_way -> other: 237 cases\n",
      "\n",
      "Processing group_3_way_after.xes (original category: 3_way_after)...\n",
      "  Reclassification changes in group_3_way_after.xes:\n",
      "    3_way_after -> other: 428 cases\n",
      "    3_way_after -> consignment: 3217 cases\n",
      "\n",
      "Processing group_3_way_before.xes (original category: 3_way_before)...\n",
      "  Reclassification changes in group_3_way_after.xes:\n",
      "    3_way_after -> other: 428 cases\n",
      "    3_way_after -> consignment: 3217 cases\n",
      "\n",
      "Processing group_3_way_before.xes (original category: 3_way_before)...\n",
      "  Reclassification changes in group_3_way_before.xes:\n",
      "    3_way_before -> 3_way_after: 147554 cases\n",
      "    3_way_before -> other: 10021 cases\n",
      "    3_way_before -> consignment: 4202 cases\n",
      "    3_way_before -> 2_way: 205 cases\n",
      "\n",
      "Created reclassified log for 3_way_after: 156944 cases\n",
      "\n",
      "Created reclassified log for 3_way_before: 12863 cases\n",
      "\n",
      "Created reclassified log for 2_way: 257 cases\n",
      "\n",
      "Created reclassified log for consignment: 18494 cases\n",
      "\n",
      "Created reclassified log for other: 11309 cases\n",
      "\n",
      "============================================================\n",
      "RECLASSIFICATION SUMMARY\n",
      "============================================================\n",
      "Total cases processed: 199,867\n",
      "Cases reclassified: 166,487 (83.30%)\n",
      "\n",
      "Category changes:\n",
      "  consignment -> other: 623 cases\n",
      "  2_way -> other: 237 cases\n",
      "  3_way_after -> other: 428 cases\n",
      "  3_way_after -> consignment: 3,217 cases\n",
      "  3_way_before -> 3_way_after: 147,554 cases\n",
      "  3_way_before -> other: 10,021 cases\n",
      "  3_way_before -> consignment: 4,202 cases\n",
      "  3_way_before -> 2_way: 205 cases\n",
      "\n",
      "Final distribution:\n",
      "  3_way_after: 156,944 cases (78.52%)\n",
      "  3_way_before: 12,863 cases (6.44%)\n",
      "  2_way: 257 cases (0.13%)\n",
      "  consignment: 18,494 cases (9.25%)\n",
      "  other: 11,309 cases (5.66%)\n",
      "\n",
      "✅ Reclassification complete! Updated logs are now available with corrected categories.\n",
      "  Reclassification changes in group_3_way_before.xes:\n",
      "    3_way_before -> 3_way_after: 147554 cases\n",
      "    3_way_before -> other: 10021 cases\n",
      "    3_way_before -> consignment: 4202 cases\n",
      "    3_way_before -> 2_way: 205 cases\n",
      "\n",
      "Created reclassified log for 3_way_after: 156944 cases\n",
      "\n",
      "Created reclassified log for 3_way_before: 12863 cases\n",
      "\n",
      "Created reclassified log for 2_way: 257 cases\n",
      "\n",
      "Created reclassified log for consignment: 18494 cases\n",
      "\n",
      "Created reclassified log for other: 11309 cases\n",
      "\n",
      "============================================================\n",
      "RECLASSIFICATION SUMMARY\n",
      "============================================================\n",
      "Total cases processed: 199,867\n",
      "Cases reclassified: 166,487 (83.30%)\n",
      "\n",
      "Category changes:\n",
      "  consignment -> other: 623 cases\n",
      "  2_way -> other: 237 cases\n",
      "  3_way_after -> other: 428 cases\n",
      "  3_way_after -> consignment: 3,217 cases\n",
      "  3_way_before -> 3_way_after: 147,554 cases\n",
      "  3_way_before -> other: 10,021 cases\n",
      "  3_way_before -> consignment: 4,202 cases\n",
      "  3_way_before -> 2_way: 205 cases\n",
      "\n",
      "Final distribution:\n",
      "  3_way_after: 156,944 cases (78.52%)\n",
      "  3_way_before: 12,863 cases (6.44%)\n",
      "  2_way: 257 cases (0.13%)\n",
      "  consignment: 18,494 cases (9.25%)\n",
      "  other: 11,309 cases (5.66%)\n",
      "\n",
      "✅ Reclassification complete! Updated logs are now available with corrected categories.\n"
     ]
    }
   ],
   "source": [
    "def reclassify_case_by_activity_order(case):\n",
    "    \"\"\"\n",
    "    Reclassify a case based on actual activity order rather than original item category.\n",
    "    \n",
    "    Args:\n",
    "        case: PM4Py case object\n",
    "        \n",
    "    Returns:\n",
    "        String: New category classification based on activity order\n",
    "    \"\"\"\n",
    "    # Extract activities and their timestamps\n",
    "    activities = []\n",
    "    for event in case:\n",
    "        activity = event.get(\"concept:name\", \"\")\n",
    "        timestamp = event.get(\"time:timestamp\")\n",
    "        activities.append((activity, timestamp))\n",
    "    \n",
    "    # Sort by timestamp to ensure correct order\n",
    "    activities.sort(key=lambda x: x[1] if x[1] is not None else datetime.min)\n",
    "    activity_names = [act[0] for act in activities]\n",
    "    \n",
    "    # Check for key activities\n",
    "    has_goods_receipt = any(\"Goods Receipt\" in act for act in activity_names)\n",
    "    has_invoice_receipt = any(\"Invoice Receipt\" in act for act in activity_names)\n",
    "    \n",
    "    # Find positions of key activities\n",
    "    goods_receipt_pos = None\n",
    "    invoice_receipt_pos = None\n",
    "    \n",
    "    for i, activity in enumerate(activity_names):\n",
    "        if \"Goods Receipt\" in activity and goods_receipt_pos is None:\n",
    "            goods_receipt_pos = i\n",
    "        if \"Invoice Receipt\" in activity and invoice_receipt_pos is None:\n",
    "            invoice_receipt_pos = i\n",
    "    \n",
    "    # Determine correct classification based on actual activity order\n",
    "    if has_goods_receipt and has_invoice_receipt:\n",
    "        # Both activities present - check order\n",
    "        if goods_receipt_pos is not None and invoice_receipt_pos is not None:\n",
    "            if goods_receipt_pos < invoice_receipt_pos:\n",
    "                return \"3_way_after\"  # Goods receipt before invoice\n",
    "            else:\n",
    "                return \"3_way_before\"  # Invoice before goods receipt\n",
    "        else:\n",
    "            return \"3_way_after\"  # Default if positions unclear\n",
    "    elif has_invoice_receipt and not has_goods_receipt:\n",
    "        return \"2_way\"  # Only invoice receipt\n",
    "    elif has_goods_receipt and not has_invoice_receipt:\n",
    "        return \"consignment\"  # Only goods receipt\n",
    "    else:\n",
    "        return \"other\"  # Neither key activity found\n",
    "\n",
    "def reclassify_logs_by_activity_order(logs):\n",
    "    \"\"\"\n",
    "    Reclassify all loaded logs based on actual activity order.\n",
    "    \n",
    "    Args:\n",
    "        logs: Dictionary of loaded logs\n",
    "        \n",
    "    Returns:\n",
    "        Dictionary: Reclassified logs with corrected categories\n",
    "    \"\"\"\n",
    "    print(\"\\n\" + \"=\"*80)\n",
    "    print(\"RECLASSIFYING CASES BASED ON ACTUAL ACTIVITY ORDER\")\n",
    "    print(\"=\"*80)\n",
    "    \n",
    "    # Create new log collections based on actual activity order\n",
    "    reclassified_logs = {\n",
    "        '3_way_after': [],\n",
    "        '3_way_before': [],\n",
    "        '2_way': [],\n",
    "        'consignment': [],\n",
    "        'other': []\n",
    "    }\n",
    "    \n",
    "    # Track reclassification statistics\n",
    "    reclassification_stats = {\n",
    "        'total_cases': 0,\n",
    "        'reclassified_cases': 0,\n",
    "        'category_changes': {},\n",
    "        'final_distribution': {}\n",
    "    }\n",
    "    \n",
    "    # Process each original log\n",
    "    for log_key, log in logs.items():\n",
    "        if not log_key.endswith('.xes'):  # Skip duplicate entries\n",
    "            continue\n",
    "            \n",
    "        original_category = log_key.replace('group_', '').replace('.xes', '')\n",
    "        print(f\"\\nProcessing {log_key} (original category: {original_category})...\")\n",
    "        \n",
    "        category_changes = {}\n",
    "        \n",
    "        for case in log:\n",
    "            reclassification_stats['total_cases'] += 1\n",
    "            \n",
    "            # Reclassify based on actual activity order\n",
    "            new_category = reclassify_case_by_activity_order(case)\n",
    "            \n",
    "            # Add case to appropriate new category\n",
    "            reclassified_logs[new_category].append(case)\n",
    "            \n",
    "            # Track changes\n",
    "            if original_category != new_category:\n",
    "                reclassification_stats['reclassified_cases'] += 1\n",
    "                change_key = f\"{original_category} -> {new_category}\"\n",
    "                category_changes[change_key] = category_changes.get(change_key, 0) + 1\n",
    "                reclassification_stats['category_changes'][change_key] = reclassification_stats['category_changes'].get(change_key, 0) + 1\n",
    "        \n",
    "        # Report changes for this log\n",
    "        if category_changes:\n",
    "            print(f\"  Reclassification changes in {log_key}:\")\n",
    "            for change, count in category_changes.items():\n",
    "                print(f\"    {change}: {count} cases\")\n",
    "        else:\n",
    "            print(f\"  No reclassification needed for {log_key}\")\n",
    "    \n",
    "    # Convert lists back to PM4Py EventLog objects\n",
    "    final_logs = {}\n",
    "    for category, cases in reclassified_logs.items():\n",
    "        if cases:  # Only create logs for categories with cases\n",
    "            event_log = pm4py.objects.log.obj.EventLog(cases)\n",
    "            # Copy attributes from one of the original logs\n",
    "            original_log = next(iter(logs.values()))\n",
    "            for attr_key, attr_value in original_log.attributes.items():\n",
    "                event_log.attributes[attr_key] = attr_value\n",
    "            \n",
    "            final_logs[category] = event_log\n",
    "            final_logs[f\"group_{category}.xes\"] = event_log  # Also store with filename format\n",
    "            \n",
    "            reclassification_stats['final_distribution'][category] = len(cases)\n",
    "            print(f\"\\nCreated reclassified log for {category}: {len(cases)} cases\")\n",
    "    \n",
    "    # Print final statistics\n",
    "    print(\"\\n\" + \"=\"*60)\n",
    "    print(\"RECLASSIFICATION SUMMARY\")\n",
    "    print(\"=\"*60)\n",
    "    print(f\"Total cases processed: {reclassification_stats['total_cases']:,}\")\n",
    "    print(f\"Cases reclassified: {reclassification_stats['reclassified_cases']:,} ({reclassification_stats['reclassified_cases']/reclassification_stats['total_cases']*100:.2f}%)\")\n",
    "    \n",
    "    print(\"\\nCategory changes:\")\n",
    "    for change, count in reclassification_stats['category_changes'].items():\n",
    "        print(f\"  {change}: {count:,} cases\")\n",
    "    \n",
    "    print(\"\\nFinal distribution:\")\n",
    "    for category, count in reclassification_stats['final_distribution'].items():\n",
    "        print(f\"  {category}: {count:,} cases ({count/reclassification_stats['total_cases']*100:.2f}%)\")\n",
    "    \n",
    "    return final_logs, reclassification_stats\n",
    "\n",
    "# Apply reclassification to loaded logs\n",
    "print(\"\\nApplying activity order-based reclassification...\")\n",
    "reclassified_logs, reclassification_stats = reclassify_logs_by_activity_order(logs)\n",
    "\n",
    "# Update the logs dictionary with reclassified versions\n",
    "logs.update(reclassified_logs)\n",
    "\n",
    "# Update the file mapping to include reclassified categories\n",
    "file_to_group.update({\n",
    "    'group_3_way_after.xes': '3_way_after',\n",
    "    'group_3_way_before.xes': '3_way_before', \n",
    "    'group_2_way.xes': '2_way',\n",
    "    'group_consignment.xes': 'consignment'\n",
    "})\n",
    "\n",
    "print(\"\\n✅ Reclassification complete! Updated logs are now available with corrected categories.\")"
   ]
  },
  {
   "cell_type": "markdown",
   "id": "e44f9364",
   "metadata": {},
   "source": [
    "## Activity Order-Based Case Reclassification\n",
    "\n",
    "The original categorization in the BPI Challenge 2019 dataset is based on the \"Item Category\" attribute, which represents the intended process type. However, analysis reveals that some cases categorized as \"3-way match, invoice after GR\" actually follow the \"3-way match, invoice before GR\" pattern in their actual activity execution.\n",
    "\n",
    "### Reclassification Logic:\n",
    "\n",
    "**Process Flow Analysis:**\n",
    "- **3-way match, invoice after GR**: Goods Receipt occurs before Invoice Receipt\n",
    "- **3-way match, invoice before GR**: Invoice Receipt occurs before Goods Receipt  \n",
    "- **2-way match**: Only Invoice Receipt (no Goods Receipt)\n",
    "- **Consignment**: Only Goods Receipt (no Invoice Receipt)\n",
    "\n",
    "**Implementation:**\n",
    "1. **Activity Detection**: Identify presence of \"Goods Receipt\" and \"Invoice Receipt\" activities\n",
    "2. **Temporal Ordering**: Sort activities by timestamp to determine actual execution order\n",
    "3. **Classification Rules**: Apply business rules based on detected activity patterns\n",
    "4. **Statistics Tracking**: Monitor reclassification changes and final distribution\n",
    "\n",
    "**Benefits:**\n",
    "- **Accurate Analysis**: Ensures compliance checking is based on actual process execution\n",
    "- **Better Insights**: Reveals discrepancies between intended and actual process flows\n",
    "- **Improved Models**: Process discovery will reflect true activity patterns\n",
    "- **Quality Control**: Identifies potential data quality issues in original categorization\n",
    "\n",
    "This reclassification step ensures that subsequent compliance analysis, process discovery, and performance metrics are based on the actual execution patterns rather than potentially incorrect initial categorizations."
   ]
  },
  {
   "cell_type": "code",
   "execution_count": null,
   "id": "85b08343",
   "metadata": {},
   "outputs": [
    {
     "name": "stdout",
     "output_type": "stream",
     "text": [
      "\n",
      "================================================================================\n",
      "VALIDATION: ORIGINAL vs RECLASSIFIED DISTRIBUTIONS\n",
      "================================================================================\n",
      "\n",
      "Original distribution (based on Item Category attribute):\n",
      "  consignment: 18,494 cases (9.81%)\n",
      "  2_way: 257 cases (0.14%)\n",
      "  3_way_after: 156,944 cases (83.23%)\n",
      "  3_way_before: 12,863 cases (6.82%)\n",
      "\n",
      "Reclassified distribution (based on actual activity order):\n",
      "  3_way_after: 156,944 cases (78.52%)\n",
      "  3_way_before: 12,863 cases (6.44%)\n",
      "  2_way: 257 cases (0.13%)\n",
      "  consignment: 18,494 cases (9.25%)\n",
      "  other: 11,309 cases (5.66%)\n",
      "\n",
      "------------------------------------------------------------\n",
      "IMPACT ANALYSIS\n",
      "------------------------------------------------------------\n",
      "Net change analysis by category:\n",
      "3_way_after:\n",
      "  Original: 156,944 cases\n",
      "  Cases moved in: +147,554\n",
      "  Cases moved out: -3,645\n",
      "  Net change: +143,909 cases\n",
      "  Final: 156,944 cases\n",
      "  Percentage change: +91.69%\n",
      "\n",
      "3_way_before:\n",
      "  Original: 12,863 cases\n",
      "  Cases moved in: +0\n",
      "  Cases moved out: -161,982\n",
      "  Net change: -161,982 cases\n",
      "  Final: 12,863 cases\n",
      "  Percentage change: -1259.29%\n",
      "\n",
      "2_way:\n",
      "  Original: 257 cases\n",
      "  Cases moved in: +205\n",
      "  Cases moved out: -237\n",
      "  Net change: -32 cases\n",
      "  Final: 257 cases\n",
      "  Percentage change: -12.45%\n",
      "\n",
      "consignment:\n",
      "  Original: 18,494 cases\n",
      "  Cases moved in: +7,419\n",
      "  Cases moved out: -623\n",
      "  Net change: +6,796 cases\n",
      "  Final: 18,494 cases\n",
      "  Percentage change: +36.75%\n",
      "\n",
      "\n",
      "All reclassified logs processed successfully!\n",
      "You can now analyze the reclassified logs for compliance and process discovery.\n"
     ]
    }
   ],
   "source": [
    "# Validation: Compare original vs reclassified distributions\n",
    "print(\"\\n\" + \"=\"*80)\n",
    "print(\"VALIDATION: ORIGINAL vs RECLASSIFIED DISTRIBUTIONS\")\n",
    "print(\"=\"*80)\n",
    "\n",
    "# Count original distributions\n",
    "original_distribution = {}\n",
    "for xes_file in xes_files:\n",
    "    category = xes_file.replace('.xes', '').replace('group_', '')\n",
    "    original_distribution[category] = len(logs[xes_file])\n",
    "\n",
    "print(\"\\nOriginal distribution (based on Item Category attribute):\")\n",
    "total_original = sum(original_distribution.values())\n",
    "for category, count in original_distribution.items():\n",
    "    percentage = (count / total_original) * 100\n",
    "    print(f\"  {category}: {count:,} cases ({percentage:.2f}%)\")\n",
    "\n",
    "print(\"\\nReclassified distribution (based on actual activity order):\")\n",
    "total_reclassified = sum(reclassification_stats['final_distribution'].values())\n",
    "for category, count in reclassification_stats['final_distribution'].items():\n",
    "    percentage = (count / total_reclassified) * 100\n",
    "    print(f\"  {category}: {count:,} cases ({percentage:.2f}%)\")\n",
    "\n",
    "# Calculate the impact of reclassification\n",
    "print(\"\\n\" + \"-\"*60)\n",
    "print(\"IMPACT ANALYSIS\")\n",
    "print(\"-\"*60)\n",
    "\n",
    "print(\"Net change analysis by category:\")\n",
    "for category in ['3_way_after', '3_way_before', '2_way', 'consignment']:\n",
    "    original_count = original_distribution.get(category, 0)\n",
    "    final_count = reclassification_stats['final_distribution'].get(category, 0)\n",
    "    \n",
    "    # Calculate cases that moved INTO this category from other categories\n",
    "    cases_moved_in = 0\n",
    "    for change_key, change_count in reclassification_stats['category_changes'].items():\n",
    "        source, target = change_key.split(' -> ')\n",
    "        if target == category and source != category:\n",
    "            cases_moved_in += change_count\n",
    "    \n",
    "    # Calculate cases that moved OUT of this category to other categories  \n",
    "    cases_moved_out = 0\n",
    "    for change_key, change_count in reclassification_stats['category_changes'].items():\n",
    "        source, target = change_key.split(' -> ')\n",
    "        if source == category and target != category:\n",
    "            cases_moved_out += change_count\n",
    "    \n",
    "    net_change = cases_moved_in - cases_moved_out\n",
    "    \n",
    "    print(f\"{category}:\")\n",
    "    print(f\"  Original: {original_count:,} cases\")\n",
    "    print(f\"  Cases moved in: +{cases_moved_in:,}\")\n",
    "    print(f\"  Cases moved out: -{cases_moved_out:,}\")\n",
    "    print(f\"  Net change: {net_change:+,} cases\")\n",
    "    print(f\"  Final: {final_count:,} cases\")\n",
    "    \n",
    "    if original_count > 0:\n",
    "        percentage_change = (net_change / original_count) * 100\n",
    "        print(f\"  Percentage change: {percentage_change:+.2f}%\")\n",
    "    print()\n",
    "\n",
    "# add reclassified logs to the main logs dictionary\n",
    "for category, log in reclassified_logs.items():\n",
    "    logs[f\"reclassified_{category}\"] = log\n",
    "\n",
    "# Final message\n",
    "print(\"\\nAll reclassified logs processed successfully!\")\n",
    "print(\"You can now analyze the reclassified logs for compliance and process discovery.\")"
   ]
  },
  {
   "cell_type": "code",
   "execution_count": 61,
   "id": "b8fb04c2",
   "metadata": {},
   "outputs": [
    {
     "name": "stdout",
     "output_type": "stream",
     "text": [
      "\n",
      "============================================================\n",
      "EXPORTING RECLASSIFIED LOGS\n",
      "============================================================\n",
      "Exporting reclassified logs to ./data/filtered/reclassified...\n",
      "Reclassified logs to export: ['reclassified_group_3_way_after.xes', 'reclassified_group_3_way_before.xes', 'reclassified_group_2_way.xes', 'reclassified_group_consignment.xes', 'reclassified_group_other.xes']\n"
     ]
    },
    {
     "data": {
      "application/vnd.jupyter.widget-view+json": {
       "model_id": "f1ec5ed06f814b8bbcaecb97e10f80b3",
       "version_major": 2,
       "version_minor": 0
      },
      "text/plain": [
       "exporting log, completed traces ::   0%|          | 0/156944 [00:00<?, ?it/s]"
      ]
     },
     "metadata": {},
     "output_type": "display_data"
    },
    {
     "name": "stdout",
     "output_type": "stream",
     "text": [
      "Exported reclassified reclassified_group_3_way_after.xes log: ./data/filtered/reclassified/reclassified_group_3_way_after.xes (156,944 cases)\n"
     ]
    },
    {
     "data": {
      "application/vnd.jupyter.widget-view+json": {
       "model_id": "a0c17ac42f8c44b0b029de8f2965fad9",
       "version_major": 2,
       "version_minor": 0
      },
      "text/plain": [
       "exporting log, completed traces ::   0%|          | 0/12863 [00:00<?, ?it/s]"
      ]
     },
     "metadata": {},
     "output_type": "display_data"
    },
    {
     "name": "stdout",
     "output_type": "stream",
     "text": [
      "Exported reclassified reclassified_group_3_way_before.xes log: ./data/filtered/reclassified/reclassified_group_3_way_before.xes (12,863 cases)\n"
     ]
    },
    {
     "data": {
      "application/vnd.jupyter.widget-view+json": {
       "model_id": "700bee7d118f4b6ab65653aab644caeb",
       "version_major": 2,
       "version_minor": 0
      },
      "text/plain": [
       "exporting log, completed traces ::   0%|          | 0/257 [00:00<?, ?it/s]"
      ]
     },
     "metadata": {},
     "output_type": "display_data"
    },
    {
     "name": "stdout",
     "output_type": "stream",
     "text": [
      "Exported reclassified reclassified_group_2_way.xes log: ./data/filtered/reclassified/reclassified_group_2_way.xes (257 cases)\n"
     ]
    },
    {
     "data": {
      "application/vnd.jupyter.widget-view+json": {
       "model_id": "7fac97aedbb64133abd988582bba9644",
       "version_major": 2,
       "version_minor": 0
      },
      "text/plain": [
       "exporting log, completed traces ::   0%|          | 0/18494 [00:00<?, ?it/s]"
      ]
     },
     "metadata": {},
     "output_type": "display_data"
    },
    {
     "name": "stdout",
     "output_type": "stream",
     "text": [
      "Exported reclassified reclassified_group_consignment.xes log: ./data/filtered/reclassified/reclassified_group_consignment.xes (18,494 cases)\n"
     ]
    },
    {
     "data": {
      "application/vnd.jupyter.widget-view+json": {
       "model_id": "a51a0cec656c4f7e8fc80015a9e90957",
       "version_major": 2,
       "version_minor": 0
      },
      "text/plain": [
       "exporting log, completed traces ::   0%|          | 0/11309 [00:00<?, ?it/s]"
      ]
     },
     "metadata": {},
     "output_type": "display_data"
    },
    {
     "name": "stdout",
     "output_type": "stream",
     "text": [
      "Exported reclassified reclassified_group_other.xes log: ./data/filtered/reclassified/reclassified_group_other.xes (11,309 cases)\n",
      "\n",
      "✅ Reclassified logs exported successfully!\n",
      "Location: ./data/filtered/reclassified\n",
      "\n",
      "These corrected logs can now be used for accurate compliance analysis.\n"
     ]
    }
   ],
   "source": [
    "# Export reclassified logs to new files (optional)\n",
    "print(\"\\n\" + \"=\"*60)\n",
    "print(\"EXPORTING RECLASSIFIED LOGS\")\n",
    "print(\"=\"*60)\n",
    "\n",
    "# Create output directory for reclassified logs\n",
    "reclassified_output_dir = './data/filtered/reclassified'\n",
    "os.makedirs(reclassified_output_dir, exist_ok=True)\n",
    "\n",
    "print(f\"Exporting reclassified logs to {reclassified_output_dir}...\")\n",
    "reclassified_logs = {f\"reclassified_{key}\": log for key, log in reclassified_logs.items() if key.startswith('group_')}\n",
    "print(f\"Reclassified logs to export: {list(reclassified_logs.keys())}\")\n",
    "\n",
    "for category, event_log in reclassified_logs.items():\n",
    "    if event_log:  # Skip 'other' and empty logs\n",
    "        output_file = os.path.join(reclassified_output_dir, f\"{category}\")\n",
    "        pm4py.write_xes(event_log, output_file)\n",
    "        print(f\"Exported reclassified {category} log: {output_file} ({len(event_log):,} cases)\")\n",
    "\n",
    "print(\"\\n✅ Reclassified logs exported successfully!\")\n",
    "print(f\"Location: {reclassified_output_dir}\")\n",
    "print(\"\\nThese corrected logs can now be used for accurate compliance analysis.\")"
   ]
  },
  {
   "cell_type": "markdown",
   "id": "6b431454",
   "metadata": {},
   "source": [
    "# 2 Compliance Filtering with Cost Validation\n",
    "\n",
    "Based on the XML structure analysis, we found that the BPI Challenge 2019 data includes a \"Cumulative net worth (EUR)\" attribute at the event level. This allows us to implement comprehensive compliance checking that includes both process flow validation and financial consistency checks.\n",
    "\n",
    "### Financial Compliance Rules by Category:\n",
    "\n",
    "**3-way match (both types):**\n",
    "- Cost consistency: PO Item cost = Goods Receipt cost = Invoice cost\n",
    "- Cumulative net worth should reflect the complete transaction value\n",
    "\n",
    "**2-way match:**\n",
    "- Cost consistency: PO Item cost = Invoice cost (no goods receipt)\n",
    "- Cumulative net worth should match the invoice value\n",
    "\n",
    "**Consignment:**\n",
    "- Cost tracking: Goods receipt should have cost recorded\n",
    "- No invoice cost validation required (separate invoicing process)"
   ]
  },
  {
   "cell_type": "code",
   "execution_count": null,
   "id": "59e13522",
   "metadata": {},
   "outputs": [
    {
     "name": "stdout",
     "output_type": "stream",
     "text": [
      "Running Enhanced Compliance Analysis with Cost Validation...\n",
      "\n",
      "Processing log: group_consignment.xes (Group: consignment)\n",
      "\n",
      "Processing log: group_2_way.xes (Group: 2_way)\n",
      "\n",
      "Processing log: group_3_way_after.xes (Group: 3_way_after)\n",
      "\n",
      "Processing log: group_3_way_before.xes (Group: 3_way_before)\n",
      "['group_consignment.xes', 'group_2_way.xes', 'group_3_way_after.xes', 'group_3_way_before.xes']\n",
      "dict_keys(['reclassified_group_3_way_after.xes', 'reclassified_group_3_way_before.xes', 'reclassified_group_2_way.xes', 'reclassified_group_consignment.xes', 'reclassified_group_other.xes'])\n",
      "\n",
      "Running Enhanced Compliance Analysis for Reclassified Logs...\n",
      "\n",
      "Processing log: reclassified_group_3_way_after.xes (Group: reclassified_3_way_after)\n",
      "\n",
      "Processing log: reclassified_group_3_way_before.xes (Group: reclassified_3_way_before)\n",
      "\n",
      "Processing log: reclassified_group_2_way.xes (Group: reclassified_2_way)\n",
      "\n",
      "Processing log: reclassified_group_consignment.xes (Group: reclassified_consignment)\n",
      "\n",
      "Processing log: reclassified_group_other.xes (Group: reclassified_other)\n",
      "\n",
      "Enhanced Compliance Results (Process + Cost):\n",
      "======================================================================\n",
      "\n",
      "CONSIGNMENT:\n",
      "  📊 Total cases: 18494\n",
      "  🔄 Process compliant: 18297 (98.93%)\n",
      "  💰 Cost compliant: 16290 (88.08%)\n",
      "  ✅ Fully compliant: 16093 (87.02%)\n",
      "  💸 Cases with cost data: 6539\n",
      "  📈 Total cost deviation: €45996966.00\n",
      "  📊 Avg cost deviation: €20869.77\n",
      "----------------------------------------------------------------------\n",
      "\n",
      "2_WAY:\n",
      "  📊 Total cases: 257\n",
      "  🔄 Process compliant: 253 (98.44%)\n",
      "  💰 Cost compliant: 257 (100.00%)\n",
      "  ✅ Fully compliant: 253 (98.44%)\n",
      "  💸 Cases with cost data: 257\n",
      "  📈 Total cost deviation: €0.00\n",
      "  📊 Avg cost deviation: €0.00\n",
      "----------------------------------------------------------------------\n",
      "\n",
      "3_WAY_AFTER:\n",
      "  📊 Total cases: 156944\n",
      "  🔄 Process compliant: 156176 (99.51%)\n",
      "  💰 Cost compliant: 155455 (99.05%)\n",
      "  ✅ Fully compliant: 154687 (98.56%)\n",
      "  💸 Cases with cost data: 156893\n",
      "  📈 Total cost deviation: €283230762.00\n",
      "  📊 Avg cost deviation: €190215.42\n",
      "----------------------------------------------------------------------\n",
      "\n",
      "3_WAY_BEFORE:\n",
      "  📊 Total cases: 12863\n",
      "  🔄 Process compliant: 12860 (99.98%)\n",
      "  💰 Cost compliant: 12839 (99.81%)\n",
      "  ✅ Fully compliant: 12836 (99.79%)\n",
      "  💸 Cases with cost data: 12862\n",
      "  📈 Total cost deviation: €1161244.00\n",
      "  📊 Avg cost deviation: €48385.17\n",
      "----------------------------------------------------------------------\n",
      "\n",
      "Enhanced Compliance Results for Reclassified Logs (Process + Cost):\n",
      "======================================================================\n",
      "\n",
      "RECLASSIFIED_3_WAY_AFTER:\n",
      "  📊 Total cases: 156944\n",
      "  🔄 Process compliant: 156176 (99.51%)\n",
      "  💰 Cost compliant: 155455 (99.05%)\n",
      "  ✅ Fully compliant: 154687 (98.56%)\n",
      "  💸 Cases with cost data: 156893\n",
      "  📈 Total cost deviation: €283230762.00\n",
      "  📊 Avg cost deviation: €190215.42\n",
      "----------------------------------------------------------------------\n",
      "\n",
      "RECLASSIFIED_3_WAY_BEFORE:\n",
      "  📊 Total cases: 12863\n",
      "  🔄 Process compliant: 12860 (99.98%)\n",
      "  💰 Cost compliant: 12839 (99.81%)\n",
      "  ✅ Fully compliant: 12836 (99.79%)\n",
      "  💸 Cases with cost data: 12862\n",
      "  📈 Total cost deviation: €1161244.00\n",
      "  📊 Avg cost deviation: €48385.17\n",
      "----------------------------------------------------------------------\n",
      "\n",
      "RECLASSIFIED_2_WAY:\n",
      "  📊 Total cases: 257\n",
      "  🔄 Process compliant: 253 (98.44%)\n",
      "  💰 Cost compliant: 257 (100.00%)\n",
      "  ✅ Fully compliant: 253 (98.44%)\n",
      "  💸 Cases with cost data: 257\n",
      "  📈 Total cost deviation: €0.00\n",
      "  📊 Avg cost deviation: €0.00\n",
      "----------------------------------------------------------------------\n",
      "\n",
      "RECLASSIFIED_CONSIGNMENT:\n",
      "  📊 Total cases: 18494\n",
      "  🔄 Process compliant: 18297 (98.93%)\n",
      "  💰 Cost compliant: 16290 (88.08%)\n",
      "  ✅ Fully compliant: 16093 (87.02%)\n",
      "  💸 Cases with cost data: 6539\n",
      "  📈 Total cost deviation: €45996966.00\n",
      "  📊 Avg cost deviation: €20869.77\n",
      "----------------------------------------------------------------------\n",
      "\n",
      "RECLASSIFIED_OTHER:\n",
      "  📊 Total cases: 11309\n",
      "  🔄 Process compliant: 0 (0.00%)\n",
      "  💰 Cost compliant: 11309 (100.00%)\n",
      "  ✅ Fully compliant: 0 (0.00%)\n",
      "  💸 Cases with cost data: 9875\n",
      "  📈 Total cost deviation: €0.00\n",
      "  📊 Avg cost deviation: €0.00\n",
      "----------------------------------------------------------------------\n"
     ]
    }
   ],
   "source": [
    "\n",
    "def extract_financial_data_from_case(case):\n",
    "    \"\"\"\n",
    "    Extract financial information from a case trace.\n",
    "    \n",
    "    Args:\n",
    "        case: PM4Py case object\n",
    "        \n",
    "    Returns:\n",
    "        Dictionary with financial data per activity type\n",
    "    \"\"\"\n",
    "    financial_data = {\n",
    "        'purchase_order_costs': [],\n",
    "        'goods_receipt_costs': [],\n",
    "        'invoice_costs': [],\n",
    "        'final_cumulative_worth': 0.0,\n",
    "        'cost_progression': []\n",
    "    }\n",
    "    \n",
    "    for event in case:\n",
    "        activity = event.get(\"concept:name\", \"\")\n",
    "        cumulative_worth = float(event.get(\"Cumulative net worth (EUR)\", 0.0))\n",
    "        \n",
    "        # Track cost progression\n",
    "        financial_data['cost_progression'].append({\n",
    "            'activity': activity,\n",
    "            'cumulative_worth': cumulative_worth,\n",
    "            'timestamp': event.get(\"time:timestamp\")\n",
    "        })\n",
    "        \n",
    "        # Categorize costs by activity type\n",
    "        if \"Create Purchase Order Item\" in activity:\n",
    "            financial_data['purchase_order_costs'].append(cumulative_worth)\n",
    "        elif \"Record Goods Receipt\" in activity:\n",
    "            financial_data['goods_receipt_costs'].append(cumulative_worth)\n",
    "        elif \"Record Invoice Receipt\" in activity:\n",
    "            financial_data['invoice_costs'].append(cumulative_worth)\n",
    "    \n",
    "    # Set final cumulative worth\n",
    "    if financial_data['cost_progression']:\n",
    "        financial_data['final_cumulative_worth'] = financial_data['cost_progression'][-1]['cumulative_worth']\n",
    "    \n",
    "    return financial_data\n",
    "\n",
    "def validate_cost_consistency(financial_data, tolerance=0.01):\n",
    "    \"\"\"\n",
    "    Validate cost consistency across different process activities.\n",
    "    \n",
    "    Args:\n",
    "        financial_data: Dictionary with financial data from extract_financial_data_from_case\n",
    "        tolerance: Tolerance for cost comparison (default 1 cent)\n",
    "        \n",
    "    Returns:\n",
    "        Dictionary with validation results\n",
    "    \"\"\"\n",
    "    validation_results = {\n",
    "        'is_cost_consistent': True,\n",
    "        'cost_deviations': [],\n",
    "        'total_deviation': 0.0,\n",
    "        'validation_details': {}\n",
    "    }\n",
    "    \n",
    "    po_costs = financial_data['purchase_order_costs']\n",
    "    gr_costs = financial_data['goods_receipt_costs'] \n",
    "    inv_costs = financial_data['invoice_costs']\n",
    "    \n",
    "    # Check for significant cost changes between activities\n",
    "    if len(po_costs) > 0 and len(gr_costs) > 0:\n",
    "        po_final = po_costs[-1] if po_costs else 0.0\n",
    "        gr_final = gr_costs[-1] if gr_costs else 0.0\n",
    "        \n",
    "        deviation = abs(po_final - gr_final)\n",
    "        if deviation > tolerance:\n",
    "            validation_results['is_cost_consistent'] = False\n",
    "            validation_results['cost_deviations'].append({\n",
    "                'type': 'PO_to_GR_deviation',\n",
    "                'po_cost': po_final,\n",
    "                'gr_cost': gr_final,\n",
    "                'deviation': deviation\n",
    "            })\n",
    "            validation_results['total_deviation'] += deviation\n",
    "    \n",
    "    if len(gr_costs) > 0 and len(inv_costs) > 0:\n",
    "        gr_final = gr_costs[-1] if gr_costs else 0.0\n",
    "        inv_final = inv_costs[-1] if inv_costs else 0.0\n",
    "        \n",
    "        deviation = abs(gr_final - inv_final)\n",
    "        if deviation > tolerance:\n",
    "            validation_results['is_cost_consistent'] = False\n",
    "            validation_results['cost_deviations'].append({\n",
    "                'type': 'GR_to_Invoice_deviation',\n",
    "                'gr_cost': gr_final,\n",
    "                'invoice_cost': inv_final,\n",
    "                'deviation': deviation\n",
    "            })\n",
    "            validation_results['total_deviation'] += deviation\n",
    "    \n",
    "    if len(po_costs) > 0 and len(inv_costs) > 0:\n",
    "        po_final = po_costs[-1] if po_costs else 0.0\n",
    "        inv_final = inv_costs[-1] if inv_costs else 0.0\n",
    "        \n",
    "        deviation = abs(po_final - inv_final)\n",
    "        if deviation > tolerance:\n",
    "            validation_results['is_cost_consistent'] = False\n",
    "            validation_results['cost_deviations'].append({\n",
    "                'type': 'PO_to_Invoice_deviation',\n",
    "                'po_cost': po_final,\n",
    "                'invoice_cost': inv_final,\n",
    "                'deviation': deviation\n",
    "            })\n",
    "            validation_results['total_deviation'] += deviation\n",
    "    \n",
    "    validation_results['validation_details'] = {\n",
    "        'po_costs_count': len(po_costs),\n",
    "        'gr_costs_count': len(gr_costs),\n",
    "        'invoice_costs_count': len(inv_costs),\n",
    "        'final_cumulative_worth': financial_data['final_cumulative_worth']\n",
    "    }\n",
    "    \n",
    "    return validation_results\n",
    "\n",
    "def check_enhanced_case_compliance(log_files, preloaded_logs, cost_tolerance=0.01):\n",
    "    \"\"\"\n",
    "    Enhanced compliance check that includes both process flow and cost validation.\n",
    "    \n",
    "    Args:\n",
    "        log_files: List of log file names\n",
    "        preloaded_logs: Dictionary of preloaded logs\n",
    "        cost_tolerance: Tolerance for cost comparison (default 1 cent)\n",
    "        \n",
    "    Returns:\n",
    "        Dictionary with enhanced compliance results including cost analysis\n",
    "    \"\"\"\n",
    "    enhanced_compliance_results = {}\n",
    "    \n",
    "    for log_file in log_files:\n",
    "        group_name = log_file.replace('.xes', '').replace('group_', '')\n",
    "        log = preloaded_logs[log_file]\n",
    "\n",
    "        print(f\"\\nProcessing log: {log_file} (Group: {group_name})\")\n",
    "        \n",
    "        # Initialize counters\n",
    "        process_compliant = 0\n",
    "        process_non_compliant = 0\n",
    "        cost_compliant = 0\n",
    "        cost_non_compliant = 0\n",
    "        fully_compliant = 0  # Both process and cost compliant\n",
    "        \n",
    "        # Cost analysis aggregations\n",
    "        cost_deviations = []\n",
    "        total_cost_deviation = 0.0\n",
    "        cases_with_costs = 0\n",
    "        \n",
    "        for case in log:\n",
    "            events = [e[\"concept:name\"] for e in case]\n",
    "            \n",
    "            # Extract financial data\n",
    "            financial_data = extract_financial_data_from_case(case)\n",
    "            cost_validation = validate_cost_consistency(financial_data, cost_tolerance)\n",
    "            \n",
    "            # Process compliance check (existing logic)\n",
    "            process_compliant_case = False\n",
    "            \n",
    "            if \"3_way_after\" in log_file:\n",
    "                if \"Record Goods Receipt\" in events and \"Record Invoice Receipt\" in events:\n",
    "                    if events.index(\"Record Goods Receipt\") < events.index(\"Record Invoice Receipt\"):\n",
    "                        process_compliant_case = True\n",
    "            elif \"3_way_before\" in log_file:\n",
    "                if \"Record Invoice Receipt\" in events and \"Record Goods Receipt\" in events:\n",
    "                    if events.index(\"Record Invoice Receipt\") < events.index(\"Record Goods Receipt\"):\n",
    "                        process_compliant_case = True\n",
    "            elif \"2_way\" in log_file:\n",
    "                if \"Record Invoice Receipt\" in events and \"Record Goods Receipt\" not in events:\n",
    "                    process_compliant_case = True\n",
    "            elif \"consignment\" in log_file:\n",
    "                if \"Record Goods Receipt\" in events and \"Record Invoice Receipt\" not in events:\n",
    "                    process_compliant_case = True\n",
    "            \n",
    "            # Update counters\n",
    "            if process_compliant_case:\n",
    "                process_compliant += 1\n",
    "            else:\n",
    "                process_non_compliant += 1\n",
    "            \n",
    "            # Cost compliance check\n",
    "            if cost_validation['is_cost_consistent']:\n",
    "                cost_compliant += 1\n",
    "            else:\n",
    "                cost_non_compliant += 1\n",
    "                cost_deviations.extend(cost_validation['cost_deviations'])\n",
    "                total_cost_deviation += cost_validation['total_deviation']\n",
    "            \n",
    "            # Full compliance (both process and cost)\n",
    "            if process_compliant_case and cost_validation['is_cost_consistent']:\n",
    "                fully_compliant += 1\n",
    "            \n",
    "            # Track cases with financial data\n",
    "            if financial_data['final_cumulative_worth'] != 0.0:\n",
    "                cases_with_costs += 1\n",
    "        \n",
    "        # Store enhanced results\n",
    "        total_cases = len(log)\n",
    "        enhanced_compliance_results[group_name] = {\n",
    "            # Process compliance (original)\n",
    "            \"process_compliant\": process_compliant,\n",
    "            \"process_non_compliant\": process_non_compliant,\n",
    "            \"process_compliance_rate\": process_compliant / total_cases * 100 if total_cases > 0 else 0,\n",
    "            \n",
    "            # Cost compliance (new)\n",
    "            \"cost_compliant\": cost_compliant,\n",
    "            \"cost_non_compliant\": cost_non_compliant,\n",
    "            \"cost_compliance_rate\": cost_compliant / total_cases * 100 if total_cases > 0 else 0,\n",
    "            \n",
    "            # Full compliance (both)\n",
    "            \"fully_compliant\": fully_compliant,\n",
    "            \"full_compliance_rate\": fully_compliant / total_cases * 100 if total_cases > 0 else 0,\n",
    "            \n",
    "            # Cost analysis\n",
    "            \"total_cost_deviation\": total_cost_deviation,\n",
    "            \"average_cost_deviation\": total_cost_deviation / max(cost_non_compliant, 1),\n",
    "            \"cases_with_costs\": cases_with_costs,\n",
    "            \"cost_deviations_count\": len(cost_deviations),\n",
    "            \n",
    "            # General\n",
    "            \"total\": total_cases\n",
    "        }\n",
    "    \n",
    "    return enhanced_compliance_results\n",
    "\n",
    "# Run enhanced compliance analysis\n",
    "print(\"Running Enhanced Compliance Analysis with Cost Validation...\")\n",
    "enhanced_results = check_enhanced_case_compliance(xes_files, logs, cost_tolerance=0.01)\n",
    "\n",
    "print(xes_files)\n",
    "print(reclassified_logs.keys())\n",
    "\n",
    "# Re-run enhanced compliance analysis for reclassified logs\n",
    "print(\"\\nRunning Enhanced Compliance Analysis for Reclassified Logs...\")\n",
    "enhanced_reclassified_results = check_enhanced_case_compliance(reclassified_logs, logs, cost_tolerance=0.01)\n",
    "\n",
    "\n",
    "# Display enhanced results for original logs\n",
    "print(\"\\nEnhanced Compliance Results (Process + Cost):\")\n",
    "print(\"=\" * 70)\n",
    "for group, stats in enhanced_results.items():\n",
    "    print(f\"\\n{group.upper()}:\")\n",
    "    print(f\"  📊 Total cases: {stats['total']}\")\n",
    "    print(f\"  🔄 Process compliant: {stats['process_compliant']} ({stats['process_compliance_rate']:.2f}%)\")\n",
    "    print(f\"  💰 Cost compliant: {stats['cost_compliant']} ({stats['cost_compliance_rate']:.2f}%)\")\n",
    "    print(f\"  ✅ Fully compliant: {stats['fully_compliant']} ({stats['full_compliance_rate']:.2f}%)\")\n",
    "    print(f\"  💸 Cases with cost data: {stats['cases_with_costs']}\")\n",
    "    print(f\"  📈 Total cost deviation: €{stats['total_cost_deviation']:.2f}\")\n",
    "    print(f\"  📊 Avg cost deviation: €{stats['average_cost_deviation']:.2f}\")\n",
    "    print(\"-\" * 70)\n",
    "\n",
    "# Display enhanced results for reclassified logs\n",
    "print(\"\\nEnhanced Compliance Results for Reclassified Logs (Process + Cost):\")\n",
    "print(\"=\" * 70)\n",
    "for group, stats in enhanced_reclassified_results.items():\n",
    "    print(f\"\\n{group.upper()}:\")\n",
    "    print(f\"  📊 Total cases: {stats['total']}\")\n",
    "    print(f\"  🔄 Process compliant: {stats['process_compliant']} ({stats['process_compliance_rate']:.2f}%)\")\n",
    "    print(f\"  💰 Cost compliant: {stats['cost_compliant']} ({stats['cost_compliance_rate']:.2f}%)\")\n",
    "    print(f\"  ✅ Fully compliant: {stats['fully_compliant']} ({stats['full_compliance_rate']:.2f}%)\")\n",
    "    print(f\"  💸 Cases with cost data: {stats['cases_with_costs']}\")\n",
    "    print(f\"  📈 Total cost deviation: €{stats['total_cost_deviation']:.2f}\")\n",
    "    print(f\"  📊 Avg cost deviation: €{stats['average_cost_deviation']:.2f}\")\n",
    "    print(\"-\" * 70)"
   ]
  },
  {
   "cell_type": "markdown",
   "id": "397b15f5",
   "metadata": {},
   "source": [
    "## 2.1 Export of compliant logs\n",
    "\n",
    "After performing comprehensive compliance analysis that evaluates both process flow adherence and financial consistency across all procurement categories, we need to extract and export the fully compliant cases for further analysis. This step creates clean datasets containing only those cases that satisfy both:\n",
    "\n",
    "1. **Process Compliance**: Cases following the correct activity sequence for their respective procurement type\n",
    "2. **Cost Compliance**: Cases with consistent financial data across purchase orders, goods receipts, and invoices\n",
    "\n",
    "The export process will:\n",
    "- Filter each log to retain only cases marked as fully compliant in our enhanced analysis\n",
    "- Create a dedicated `compliant` subfolder within the filtered data directory\n",
    "- Export each compliant subset as a separate XES file for downstream process mining tasks\n",
    "\n",
    "The second export process will export all non-compliant cases:\n",
    "- Filter each log to retain only cases marked non-compliant in our enhanced analysis\n",
    "- Create a dedicated `non_compliant` subfolder within the filtered data directory\n",
    "- Export each non_compliant subset as a separate XES file for downstream process mining tasks"
   ]
  },
  {
   "cell_type": "code",
   "execution_count": 62,
   "id": "76e30624",
   "metadata": {},
   "outputs": [
    {
     "name": "stdout",
     "output_type": "stream",
     "text": [
      "Creating compliant and non-compliant logs...\n",
      "Created compliant logs for 8 groups\n",
      "Created non-compliant logs for 9 groups\n",
      "consignment: 16093 compliant, 2401 non-compliant (total: 18494)\n",
      "2_way: 253 compliant, 4 non-compliant (total: 257)\n",
      "3_way_after: 154687 compliant, 2257 non-compliant (total: 156944)\n",
      "3_way_before: 12836 compliant, 27 non-compliant (total: 12863)\n",
      "reclassified_3_way_after: 154687 compliant, 2257 non-compliant (total: 156944)\n",
      "reclassified_3_way_before: 12836 compliant, 27 non-compliant (total: 12863)\n",
      "reclassified_2_way: 253 compliant, 4 non-compliant (total: 257)\n",
      "reclassified_consignment: 16093 compliant, 2401 non-compliant (total: 18494)\n",
      "\n",
      "Exporting compliant logs...\n"
     ]
    },
    {
     "data": {
      "application/vnd.jupyter.widget-view+json": {
       "model_id": "238bc46e4a1f4fffa8c0697a86878d4e",
       "version_major": 2,
       "version_minor": 0
      },
      "text/plain": [
       "exporting log, completed traces ::   0%|          | 0/16093 [00:00<?, ?it/s]"
      ]
     },
     "metadata": {},
     "output_type": "display_data"
    },
    {
     "name": "stdout",
     "output_type": "stream",
     "text": [
      "Exported 16093 compliant cases for consignment to ./data/filtered/compliant/compliant_consignment.xes\n"
     ]
    },
    {
     "data": {
      "application/vnd.jupyter.widget-view+json": {
       "model_id": "4c2a667f8fd8436382addfba6417d602",
       "version_major": 2,
       "version_minor": 0
      },
      "text/plain": [
       "exporting log, completed traces ::   0%|          | 0/253 [00:00<?, ?it/s]"
      ]
     },
     "metadata": {},
     "output_type": "display_data"
    },
    {
     "name": "stdout",
     "output_type": "stream",
     "text": [
      "Exported 253 compliant cases for 2_way to ./data/filtered/compliant/compliant_2_way.xes\n"
     ]
    },
    {
     "data": {
      "application/vnd.jupyter.widget-view+json": {
       "model_id": "c626c778a18849c6ac6c7b6ca7c49a91",
       "version_major": 2,
       "version_minor": 0
      },
      "text/plain": [
       "exporting log, completed traces ::   0%|          | 0/154687 [00:00<?, ?it/s]"
      ]
     },
     "metadata": {},
     "output_type": "display_data"
    },
    {
     "name": "stdout",
     "output_type": "stream",
     "text": [
      "Exported 154687 compliant cases for 3_way_after to ./data/filtered/compliant/compliant_3_way_after.xes\n"
     ]
    },
    {
     "data": {
      "application/vnd.jupyter.widget-view+json": {
       "model_id": "9da3df3a50d4412790ebed3cafdc81b3",
       "version_major": 2,
       "version_minor": 0
      },
      "text/plain": [
       "exporting log, completed traces ::   0%|          | 0/12836 [00:00<?, ?it/s]"
      ]
     },
     "metadata": {},
     "output_type": "display_data"
    },
    {
     "name": "stdout",
     "output_type": "stream",
     "text": [
      "Exported 12836 compliant cases for 3_way_before to ./data/filtered/compliant/compliant_3_way_before.xes\n"
     ]
    },
    {
     "data": {
      "application/vnd.jupyter.widget-view+json": {
       "model_id": "4c55eaae0dd94b68b419ead6c7b09953",
       "version_major": 2,
       "version_minor": 0
      },
      "text/plain": [
       "exporting log, completed traces ::   0%|          | 0/154687 [00:00<?, ?it/s]"
      ]
     },
     "metadata": {},
     "output_type": "display_data"
    },
    {
     "name": "stdout",
     "output_type": "stream",
     "text": [
      "Exported 154687 compliant cases for reclassified_3_way_after to ./data/filtered/compliant/compliant_reclassified_3_way_after.xes\n"
     ]
    },
    {
     "data": {
      "application/vnd.jupyter.widget-view+json": {
       "model_id": "d4509e0d87594d91b0daa5873a145f85",
       "version_major": 2,
       "version_minor": 0
      },
      "text/plain": [
       "exporting log, completed traces ::   0%|          | 0/12836 [00:00<?, ?it/s]"
      ]
     },
     "metadata": {},
     "output_type": "display_data"
    },
    {
     "name": "stdout",
     "output_type": "stream",
     "text": [
      "Exported 12836 compliant cases for reclassified_3_way_before to ./data/filtered/compliant/compliant_reclassified_3_way_before.xes\n"
     ]
    },
    {
     "data": {
      "application/vnd.jupyter.widget-view+json": {
       "model_id": "cc73be739a4748248990278f173a40ee",
       "version_major": 2,
       "version_minor": 0
      },
      "text/plain": [
       "exporting log, completed traces ::   0%|          | 0/253 [00:00<?, ?it/s]"
      ]
     },
     "metadata": {},
     "output_type": "display_data"
    },
    {
     "name": "stdout",
     "output_type": "stream",
     "text": [
      "Exported 253 compliant cases for reclassified_2_way to ./data/filtered/compliant/compliant_reclassified_2_way.xes\n"
     ]
    },
    {
     "data": {
      "application/vnd.jupyter.widget-view+json": {
       "model_id": "e7509e5ee555443d991b222dab800677",
       "version_major": 2,
       "version_minor": 0
      },
      "text/plain": [
       "exporting log, completed traces ::   0%|          | 0/16093 [00:00<?, ?it/s]"
      ]
     },
     "metadata": {},
     "output_type": "display_data"
    },
    {
     "name": "stdout",
     "output_type": "stream",
     "text": [
      "Exported 16093 compliant cases for reclassified_consignment to ./data/filtered/compliant/compliant_reclassified_consignment.xes\n",
      "\n",
      "Exporting non-compliant logs...\n"
     ]
    },
    {
     "data": {
      "application/vnd.jupyter.widget-view+json": {
       "model_id": "2e04d4ef7c8b406fb60fac8041c50880",
       "version_major": 2,
       "version_minor": 0
      },
      "text/plain": [
       "exporting log, completed traces ::   0%|          | 0/2401 [00:00<?, ?it/s]"
      ]
     },
     "metadata": {},
     "output_type": "display_data"
    },
    {
     "name": "stdout",
     "output_type": "stream",
     "text": [
      "Exported 2401 non-compliant cases for consignment to ./data/filtered/non_compliant/non_compliant_consignment.xes\n"
     ]
    },
    {
     "data": {
      "application/vnd.jupyter.widget-view+json": {
       "model_id": "347ae3ac1bbc4e76afc1110326909f4b",
       "version_major": 2,
       "version_minor": 0
      },
      "text/plain": [
       "exporting log, completed traces ::   0%|          | 0/4 [00:00<?, ?it/s]"
      ]
     },
     "metadata": {},
     "output_type": "display_data"
    },
    {
     "name": "stdout",
     "output_type": "stream",
     "text": [
      "Exported 4 non-compliant cases for 2_way to ./data/filtered/non_compliant/non_compliant_2_way.xes\n"
     ]
    },
    {
     "data": {
      "application/vnd.jupyter.widget-view+json": {
       "model_id": "1b53ae656e864abb82bfd62a108d8d04",
       "version_major": 2,
       "version_minor": 0
      },
      "text/plain": [
       "exporting log, completed traces ::   0%|          | 0/2257 [00:00<?, ?it/s]"
      ]
     },
     "metadata": {},
     "output_type": "display_data"
    },
    {
     "name": "stdout",
     "output_type": "stream",
     "text": [
      "Exported 2257 non-compliant cases for 3_way_after to ./data/filtered/non_compliant/non_compliant_3_way_after.xes\n"
     ]
    },
    {
     "data": {
      "application/vnd.jupyter.widget-view+json": {
       "model_id": "b6b865cea6b541c48e2dd6c1dcba05fe",
       "version_major": 2,
       "version_minor": 0
      },
      "text/plain": [
       "exporting log, completed traces ::   0%|          | 0/27 [00:00<?, ?it/s]"
      ]
     },
     "metadata": {},
     "output_type": "display_data"
    },
    {
     "name": "stdout",
     "output_type": "stream",
     "text": [
      "Exported 27 non-compliant cases for 3_way_before to ./data/filtered/non_compliant/non_compliant_3_way_before.xes\n"
     ]
    },
    {
     "data": {
      "application/vnd.jupyter.widget-view+json": {
       "model_id": "ec52abdb7ddb4de29188c748d6478a25",
       "version_major": 2,
       "version_minor": 0
      },
      "text/plain": [
       "exporting log, completed traces ::   0%|          | 0/2257 [00:00<?, ?it/s]"
      ]
     },
     "metadata": {},
     "output_type": "display_data"
    },
    {
     "name": "stdout",
     "output_type": "stream",
     "text": [
      "Exported 2257 non-compliant cases for reclassified_3_way_after to ./data/filtered/non_compliant/non_compliant_reclassified_3_way_after.xes\n"
     ]
    },
    {
     "data": {
      "application/vnd.jupyter.widget-view+json": {
       "model_id": "b71aad50b6e3412989c6ead9fce4eab4",
       "version_major": 2,
       "version_minor": 0
      },
      "text/plain": [
       "exporting log, completed traces ::   0%|          | 0/27 [00:00<?, ?it/s]"
      ]
     },
     "metadata": {},
     "output_type": "display_data"
    },
    {
     "name": "stdout",
     "output_type": "stream",
     "text": [
      "Exported 27 non-compliant cases for reclassified_3_way_before to ./data/filtered/non_compliant/non_compliant_reclassified_3_way_before.xes\n"
     ]
    },
    {
     "data": {
      "application/vnd.jupyter.widget-view+json": {
       "model_id": "dcb95b10efe1499c89b166ab664562bb",
       "version_major": 2,
       "version_minor": 0
      },
      "text/plain": [
       "exporting log, completed traces ::   0%|          | 0/4 [00:00<?, ?it/s]"
      ]
     },
     "metadata": {},
     "output_type": "display_data"
    },
    {
     "name": "stdout",
     "output_type": "stream",
     "text": [
      "Exported 4 non-compliant cases for reclassified_2_way to ./data/filtered/non_compliant/non_compliant_reclassified_2_way.xes\n"
     ]
    },
    {
     "data": {
      "application/vnd.jupyter.widget-view+json": {
       "model_id": "3247150bd5d9400d871e0176a405a84d",
       "version_major": 2,
       "version_minor": 0
      },
      "text/plain": [
       "exporting log, completed traces ::   0%|          | 0/2401 [00:00<?, ?it/s]"
      ]
     },
     "metadata": {},
     "output_type": "display_data"
    },
    {
     "name": "stdout",
     "output_type": "stream",
     "text": [
      "Exported 2401 non-compliant cases for reclassified_consignment to ./data/filtered/non_compliant/non_compliant_reclassified_consignment.xes\n"
     ]
    },
    {
     "data": {
      "application/vnd.jupyter.widget-view+json": {
       "model_id": "c7ec08f9e07147a284d183123e23360d",
       "version_major": 2,
       "version_minor": 0
      },
      "text/plain": [
       "exporting log, completed traces ::   0%|          | 0/11309 [00:00<?, ?it/s]"
      ]
     },
     "metadata": {},
     "output_type": "display_data"
    },
    {
     "name": "stdout",
     "output_type": "stream",
     "text": [
      "Exported 11309 non-compliant cases for reclassified_other to ./data/filtered/non_compliant/non_compliant_reclassified_other.xes\n"
     ]
    }
   ],
   "source": [
    "from pm4py.objects.log.obj import EventLog\n",
    "from pm4py.objects.log.exporter.xes import exporter as xes_exporter\n",
    "\n",
    "# Create compliant and non-compliant logs based on enhanced compliance analysis\n",
    "print(\"Creating compliant and non-compliant logs...\")\n",
    "\n",
    "# Create output folders\n",
    "compliant_folder = os.path.join(data_folder, 'compliant')\n",
    "non_compliant_folder = os.path.join(data_folder, 'non_compliant')\n",
    "os.makedirs(compliant_folder, exist_ok=True)\n",
    "os.makedirs(non_compliant_folder, exist_ok=True)\n",
    "\n",
    "compliant_logs = {}\n",
    "non_compliant_logs = {}\n",
    "\n",
    "for log_file in [*xes_files, *reclassified_logs.keys()]:\n",
    "    group_name = log_file.replace('.xes', '').replace('group_', '')\n",
    "    log = logs[log_file]\n",
    "    \n",
    "    # Initialize filtered logs\n",
    "    compliant_cases = []\n",
    "    non_compliant_cases = []\n",
    "    \n",
    "    for case in log:\n",
    "        events = [e[\"concept:name\"] for e in case]\n",
    "        \n",
    "        # Extract financial data\n",
    "        financial_data = extract_financial_data_from_case(case)\n",
    "        cost_validation = validate_cost_consistency(financial_data, 0.01)\n",
    "        \n",
    "        # Process compliance check\n",
    "        process_compliant_case = False\n",
    "        \n",
    "        if \"3_way_after\" in log_file:\n",
    "            if \"Record Goods Receipt\" in events and \"Record Invoice Receipt\" in events:\n",
    "                if events.index(\"Record Goods Receipt\") < events.index(\"Record Invoice Receipt\"):\n",
    "                    process_compliant_case = True\n",
    "        elif \"3_way_before\" in log_file:\n",
    "            if \"Record Invoice Receipt\" in events and \"Record Goods Receipt\" in events:\n",
    "                if events.index(\"Record Invoice Receipt\") < events.index(\"Record Goods Receipt\"):\n",
    "                    process_compliant_case = True\n",
    "        elif \"2_way\" in log_file:\n",
    "            if \"Record Invoice Receipt\" in events and \"Record Goods Receipt\" not in events:\n",
    "                process_compliant_case = True\n",
    "        elif \"consignment\" in log_file:\n",
    "            if \"Record Goods Receipt\" in events and \"Record Invoice Receipt\" not in events:\n",
    "                process_compliant_case = True\n",
    "        \n",
    "        # Check full compliance (both process and cost)\n",
    "        is_fully_compliant = process_compliant_case and cost_validation['is_cost_consistent']\n",
    "        \n",
    "        # Separate cases based on compliance\n",
    "        if is_fully_compliant:\n",
    "            compliant_cases.append(case)\n",
    "        else:\n",
    "            non_compliant_cases.append(case)\n",
    "    \n",
    "    # Create new logs from filtered cases\n",
    "    if compliant_cases:\n",
    "        compliant_log = EventLog(compliant_cases)\n",
    "        # Copy attributes from original log\n",
    "        for attr_key, attr_value in log.attributes.items():\n",
    "            compliant_log.attributes[attr_key] = attr_value\n",
    "        compliant_logs[group_name] = compliant_log\n",
    "        \n",
    "    if non_compliant_cases:\n",
    "        non_compliant_log = EventLog(non_compliant_cases)\n",
    "        # Copy attributes from original log\n",
    "        for attr_key, attr_value in log.attributes.items():\n",
    "            non_compliant_log.attributes[attr_key] = attr_value\n",
    "        non_compliant_logs[group_name] = non_compliant_log\n",
    "\n",
    "print(f\"Created compliant logs for {len(compliant_logs)} groups\")\n",
    "print(f\"Created non-compliant logs for {len(non_compliant_logs)} groups\")\n",
    "\n",
    "# Display summary\n",
    "for group_name in compliant_logs.keys():\n",
    "    compliant_count = len(compliant_logs[group_name]) if group_name in compliant_logs else 0\n",
    "    non_compliant_count = len(non_compliant_logs[group_name]) if group_name in non_compliant_logs else 0\n",
    "    total_count = compliant_count + non_compliant_count\n",
    "    \n",
    "    print(f\"{group_name}: {compliant_count} compliant, {non_compliant_count} non-compliant (total: {total_count})\")\n",
    "\n",
    "# Export compliant logs\n",
    "print(\"\\nExporting compliant logs...\")\n",
    "for group_name, log in compliant_logs.items():\n",
    "    output_file = os.path.join(compliant_folder, f\"compliant_{group_name}.xes\")\n",
    "    xes_exporter.apply(log, output_file)\n",
    "    print(f\"Exported {len(log)} compliant cases for {group_name} to {output_file}\")\n",
    "\n",
    "# Export non-compliant logs\n",
    "print(\"\\nExporting non-compliant logs...\")\n",
    "for group_name, log in non_compliant_logs.items():\n",
    "    output_file = os.path.join(non_compliant_folder, f\"non_compliant_{group_name}.xes\")\n",
    "    xes_exporter.apply(log, output_file)\n",
    "    print(f\"Exported {len(log)} non-compliant cases for {group_name} to {output_file}\")"
   ]
  },
  {
   "cell_type": "code",
   "execution_count": null,
   "id": "b2903153",
   "metadata": {},
   "outputs": [
    {
     "ename": "KeyError",
     "evalue": "'reclassified_3_way_after'",
     "output_type": "error",
     "traceback": [
      "\u001b[31m---------------------------------------------------------------------------\u001b[39m",
      "\u001b[31mKeyError\u001b[39m                                  Traceback (most recent call last)",
      "\u001b[36mCell\u001b[39m\u001b[36m \u001b[39m\u001b[32mIn[68]\u001b[39m\u001b[32m, line 7\u001b[39m\n\u001b[32m      5\u001b[39m groups = \u001b[38;5;28mlist\u001b[39m(enhanced_reclassified_results.keys())\n\u001b[32m      6\u001b[39m process_compliant = [enhanced_reclassified_results[g][\u001b[33m'\u001b[39m\u001b[33mprocess_compliant\u001b[39m\u001b[33m'\u001b[39m] \u001b[38;5;28;01mfor\u001b[39;00m g \u001b[38;5;129;01min\u001b[39;00m groups]\n\u001b[32m----> \u001b[39m\u001b[32m7\u001b[39m cost_compliant = [\u001b[43menhanced_results\u001b[49m\u001b[43m[\u001b[49m\u001b[43mg\u001b[49m\u001b[43m]\u001b[49m[\u001b[33m'\u001b[39m\u001b[33mcost_compliant\u001b[39m\u001b[33m'\u001b[39m] \u001b[38;5;28;01mfor\u001b[39;00m g \u001b[38;5;129;01min\u001b[39;00m groups]\n\u001b[32m      8\u001b[39m fully_compliant = [enhanced_results[g][\u001b[33m'\u001b[39m\u001b[33mfully_compliant\u001b[39m\u001b[33m'\u001b[39m] \u001b[38;5;28;01mfor\u001b[39;00m g \u001b[38;5;129;01min\u001b[39;00m groups]\n\u001b[32m      9\u001b[39m process_non_compliant = [enhanced_results[g][\u001b[33m'\u001b[39m\u001b[33mprocess_non_compliant\u001b[39m\u001b[33m'\u001b[39m] \u001b[38;5;28;01mfor\u001b[39;00m g \u001b[38;5;129;01min\u001b[39;00m groups]\n",
      "\u001b[31mKeyError\u001b[39m: 'reclassified_3_way_after'"
     ]
    },
    {
     "data": {
      "image/png": "[encoded data removed]",
      "text/plain": [
       "<Figure size 1500x1200 with 4 Axes>"
      ]
     },
     "metadata": {},
     "output_type": "display_data"
    }
   ],
   "source": [
    "# Create enhanced visualizations including cost compliance\n",
    "fig, axes = plt.subplots(2, 2, figsize=(15, 12))\n",
    "\n",
    "# Extract data for plotting\n",
    "groups = list(enhanced_results.keys())\n",
    "process_compliant = [enhanced_results[g]['process_compliant'] for g in groups]\n",
    "cost_compliant = [enhanced_results[g]['cost_compliant'] for g in groups]\n",
    "fully_compliant = [enhanced_results[g]['fully_compliant'] for g in groups]\n",
    "process_non_compliant = [enhanced_results[g]['process_non_compliant'] for g in groups]\n",
    "cost_non_compliant = [enhanced_results[g]['cost_non_compliant'] for g in groups]\n",
    "\n",
    "x = range(len(groups))\n",
    "width = 0.25\n",
    "\n",
    "# 1. Compliance comparison\n",
    "axes[0,0].bar([i - width for i in x], process_compliant, width, label='Process Compliant', alpha=0.8)\n",
    "axes[0,0].bar(x, cost_compliant, width, label='Cost Compliant', alpha=0.8)\n",
    "axes[0,0].bar([i + width for i in x], fully_compliant, width, label='Fully Compliant', alpha=0.8)\n",
    "axes[0,0].set_xlabel('Process Groups')\n",
    "axes[0,0].set_ylabel('Number of Cases')\n",
    "axes[0,0].set_title('Compliance Comparison: Process vs Cost vs Full')\n",
    "axes[0,0].set_xticks(x)\n",
    "axes[0,0].set_xticklabels(groups, rotation=45)\n",
    "axes[0,0].legend()\n",
    "axes[0,0].grid(axis='y', alpha=0.3)\n",
    "\n",
    "# 2. Compliance rates\n",
    "process_rates = [enhanced_results[g]['process_compliance_rate'] for g in groups]\n",
    "cost_rates = [enhanced_results[g]['cost_compliance_rate'] for g in groups]\n",
    "full_rates = [enhanced_results[g]['full_compliance_rate'] for g in groups]\n",
    "\n",
    "axes[0,1].bar([i - width for i in x], process_rates, width, label='Process Rate', alpha=0.8)\n",
    "axes[0,1].bar(x, cost_rates, width, label='Cost Rate', alpha=0.8)\n",
    "axes[0,1].bar([i + width for i in x], full_rates, width, label='Full Rate', alpha=0.8)\n",
    "axes[0,1].set_xlabel('Process Groups')\n",
    "axes[0,1].set_ylabel('Compliance Rate (%)')\n",
    "axes[0,1].set_title('Compliance Rates by Category')\n",
    "axes[0,1].set_xticks(x)\n",
    "axes[0,1].set_xticklabels(groups, rotation=45)\n",
    "axes[0,1].legend()\n",
    "axes[0,1].set_ylim(0, 100)\n",
    "axes[0,1].grid(axis='y', alpha=0.3)\n",
    "\n",
    "# 3. Cost deviation analysis\n",
    "total_deviations = [enhanced_results[g]['total_cost_deviation'] for g in groups]\n",
    "avg_deviations = [enhanced_results[g]['average_cost_deviation'] for g in groups]\n",
    "\n",
    "bars = axes[1,0].bar(groups, total_deviations, alpha=0.7, color='coral')\n",
    "axes[1,0].set_xlabel('Process Groups')\n",
    "axes[1,0].set_ylabel('Total Cost Deviation (EUR)')\n",
    "axes[1,0].set_title('Total Cost Deviations by Process Group')\n",
    "axes[1,0].tick_params(axis='x', rotation=45)\n",
    "axes[1,0].grid(axis='y', alpha=0.3)\n",
    "\n",
    "# Add value labels on bars\n",
    "for bar in bars:\n",
    "    height = bar.get_height()\n",
    "    axes[1,0].text(bar.get_x() + bar.get_width()/2., height,\n",
    "                   f'€{height:.2f}', ha='center', va='bottom', fontsize=9)\n",
    "\n",
    "# 4. Cases with cost data\n",
    "cases_with_costs = [enhanced_results[g]['cases_with_costs'] for g in groups]\n",
    "total_cases = [enhanced_results[g]['total'] for g in groups]\n",
    "\n",
    "axes[1,1].bar(groups, total_cases, alpha=0.5, label='Total Cases', color='lightblue')\n",
    "axes[1,1].bar(groups, cases_with_costs, alpha=0.8, label='Cases with Cost Data', color='darkblue')\n",
    "axes[1,1].set_xlabel('Process Groups')\n",
    "axes[1,1].set_ylabel('Number of Cases')\n",
    "axes[1,1].set_title('Cases with Cost Data Coverage')\n",
    "axes[1,1].tick_params(axis='x', rotation=45)\n",
    "axes[1,1].legend()\n",
    "axes[1,1].grid(axis='y', alpha=0.3)\n",
    "\n",
    "plt.tight_layout()\n",
    "plt.show()\n",
    "\n",
    "# Summary statistics\n",
    "print(\"\\n\" + \"=\"*70)\n",
    "print(\"ENHANCED COMPLIANCE SUMMARY\")\n",
    "print(\"=\"*70)\n",
    "\n",
    "total_cases_all = sum(enhanced_results[g]['total'] for g in groups)\n",
    "total_process_compliant = sum(enhanced_results[g]['process_compliant'] for g in groups)\n",
    "total_cost_compliant = sum(enhanced_results[g]['cost_compliant'] for g in groups)\n",
    "total_fully_compliant = sum(enhanced_results[g]['fully_compliant'] for g in groups)\n",
    "total_cost_deviation = sum(enhanced_results[g]['total_cost_deviation'] for g in groups)\n",
    "\n",
    "print(f\"Overall Statistics across all {len(groups)} process groups:\")\n",
    "print(f\"  📊 Total cases analyzed: {total_cases_all:,}\")\n",
    "print(f\"  🔄 Process compliance: {total_process_compliant:,} ({total_process_compliant/total_cases_all*100:.2f}%)\")\n",
    "print(f\"  💰 Cost compliance: {total_cost_compliant:,} ({total_cost_compliant/total_cases_all*100:.2f}%)\")\n",
    "print(f\"  ✅ Full compliance: {total_fully_compliant:,} ({total_fully_compliant/total_cases_all*100:.2f}%)\")\n",
    "print(f\"  💸 Total cost deviation: €{total_cost_deviation:,.2f}\")\n",
    "\n",
    "print(f\"\\nCompliance Gap Analysis:\")\n",
    "process_gap = total_process_compliant - total_fully_compliant\n",
    "cost_gap = total_cost_compliant - total_fully_compliant\n",
    "print(f\"  📉 Cases failing cost validation: {process_gap:,}\")\n",
    "print(f\"  📉 Cases failing process validation: {cost_gap:,}\")\n",
    "\n",
    "# Identify most problematic category\n",
    "worst_compliance = min(groups, key=lambda g: enhanced_results[g]['full_compliance_rate'])\n",
    "best_compliance = max(groups, key=lambda g: enhanced_results[g]['full_compliance_rate'])\n",
    "\n",
    "print(f\"\\nCategory Analysis:\")\n",
    "print(f\"  🚨 Most problematic: {worst_compliance} ({enhanced_results[worst_compliance]['full_compliance_rate']:.2f}% full compliance)\")\n",
    "print(f\"  ✅ Best performing: {best_compliance} ({enhanced_results[best_compliance]['full_compliance_rate']:.2f}% full compliance)\")"
   ]
  },
  {
   "cell_type": "code",
   "execution_count": 67,
   "id": "02f02e23",
   "metadata": {},
   "outputs": [
    {
     "data": {
      "image/png": "[encoded data removed]",
      "text/plain": [
       "<Figure size 1500x1200 with 4 Axes>"
      ]
     },
     "metadata": {},
     "output_type": "display_data"
    },
    {
     "name": "stdout",
     "output_type": "stream",
     "text": [
      "\n",
      "======================================================================\n",
      "ENHANCED COMPLIANCE SUMMARY\n",
      "======================================================================\n",
      "Overall Statistics across all 5 process groups:\n",
      "  📊 Total cases analyzed: 199,867\n",
      "  🔄 Process compliance: 187,586 (93.86%)\n",
      "  💰 Cost compliance: 196,150 (98.14%)\n",
      "  ✅ Full compliance: 183,869 (92.00%)\n",
      "  💸 Total cost deviation: €330,388,972.00\n",
      "\n",
      "Compliance Gap Analysis:\n",
      "  📉 Cases failing cost validation: 3,717\n",
      "  📉 Cases failing process validation: 12,281\n",
      "\n",
      "Category Analysis:\n",
      "  🚨 Most problematic: reclassified_other (0.00% full compliance)\n",
      "  ✅ Best performing: reclassified_3_way_before (99.79% full compliance)\n"
     ]
    }
   ],
   "source": [
    "# Create enhanced visualizations including cost compliance\n",
    "fig, axes = plt.subplots(2, 2, figsize=(15, 12))\n",
    "\n",
    "# Extract data for plotting\n",
    "groups = list(enhanced_reclassified_results.keys())\n",
    "process_compliant = [enhanced_reclassified_results[g]['process_compliant'] for g in groups]\n",
    "cost_compliant = [enhanced_reclassified_results[g]['cost_compliant'] for g in groups]\n",
    "fully_compliant = [enhanced_reclassified_results[g]['fully_compliant'] for g in groups]\n",
    "process_non_compliant = [enhanced_reclassified_results[g]['process_non_compliant'] for g in groups]\n",
    "cost_non_compliant = [enhanced_reclassified_results[g]['cost_non_compliant'] for g in groups]\n",
    "\n",
    "x = range(len(groups))\n",
    "width = 0.25\n",
    "\n",
    "# 1. Compliance comparison\n",
    "axes[0,0].bar([i - width for i in x], process_compliant, width, label='Process Compliant', alpha=0.8)\n",
    "axes[0,0].bar(x, cost_compliant, width, label='Cost Compliant', alpha=0.8)\n",
    "axes[0,0].bar([i + width for i in x], fully_compliant, width, label='Fully Compliant', alpha=0.8)\n",
    "axes[0,0].set_xlabel('Process Groups')\n",
    "axes[0,0].set_ylabel('Number of Cases')\n",
    "axes[0,0].set_title('Compliance Comparison: Process vs Cost vs Full')\n",
    "axes[0,0].set_xticks(x)\n",
    "axes[0,0].set_xticklabels(groups, rotation=45)\n",
    "axes[0,0].legend()\n",
    "axes[0,0].grid(axis='y', alpha=0.3)\n",
    "\n",
    "# 2. Compliance rates\n",
    "process_rates = [enhanced_reclassified_results[g]['process_compliance_rate'] for g in groups]\n",
    "cost_rates = [enhanced_reclassified_results[g]['cost_compliance_rate'] for g in groups]\n",
    "full_rates = [enhanced_reclassified_results[g]['full_compliance_rate'] for g in groups]\n",
    "\n",
    "axes[0,1].bar([i - width for i in x], process_rates, width, label='Process Rate', alpha=0.8)\n",
    "axes[0,1].bar(x, cost_rates, width, label='Cost Rate', alpha=0.8)\n",
    "axes[0,1].bar([i + width for i in x], full_rates, width, label='Full Rate', alpha=0.8)\n",
    "axes[0,1].set_xlabel('Process Groups')\n",
    "axes[0,1].set_ylabel('Compliance Rate (%)')\n",
    "axes[0,1].set_title('Compliance Rates by Category')\n",
    "axes[0,1].set_xticks(x)\n",
    "axes[0,1].set_xticklabels(groups, rotation=45)\n",
    "axes[0,1].legend()\n",
    "axes[0,1].set_ylim(0, 100)\n",
    "axes[0,1].grid(axis='y', alpha=0.3)\n",
    "\n",
    "# 3. Cost deviation analysis\n",
    "total_deviations = [enhanced_reclassified_results[g]['total_cost_deviation'] for g in groups]\n",
    "avg_deviations = [enhanced_reclassified_results[g]['average_cost_deviation'] for g in groups]\n",
    "\n",
    "bars = axes[1,0].bar(groups, total_deviations, alpha=0.7, color='coral')\n",
    "axes[1,0].set_xlabel('Process Groups')\n",
    "axes[1,0].set_ylabel('Total Cost Deviation (EUR)')\n",
    "axes[1,0].set_title('Total Cost Deviations by Process Group')\n",
    "axes[1,0].tick_params(axis='x', rotation=45)\n",
    "axes[1,0].grid(axis='y', alpha=0.3)\n",
    "\n",
    "# Add value labels on bars\n",
    "for bar in bars:\n",
    "    height = bar.get_height()\n",
    "    axes[1,0].text(bar.get_x() + bar.get_width()/2., height,\n",
    "                   f'€{height:.2f}', ha='center', va='bottom', fontsize=9)\n",
    "\n",
    "# 4. Cases with cost data\n",
    "cases_with_costs = [enhanced_reclassified_results[g]['cases_with_costs'] for g in groups]\n",
    "total_cases = [enhanced_reclassified_results[g]['total'] for g in groups]\n",
    "\n",
    "axes[1,1].bar(groups, total_cases, alpha=0.5, label='Total Cases', color='lightblue')\n",
    "axes[1,1].bar(groups, cases_with_costs, alpha=0.8, label='Cases with Cost Data', color='darkblue')\n",
    "axes[1,1].set_xlabel('Process Groups')\n",
    "axes[1,1].set_ylabel('Number of Cases')\n",
    "axes[1,1].set_title('Cases with Cost Data Coverage')\n",
    "axes[1,1].tick_params(axis='x', rotation=45)\n",
    "axes[1,1].legend()\n",
    "axes[1,1].grid(axis='y', alpha=0.3)\n",
    "\n",
    "plt.tight_layout()\n",
    "plt.show()\n",
    "\n",
    "# Summary statistics\n",
    "print(\"\\n\" + \"=\"*70)\n",
    "print(\"ENHANCED COMPLIANCE SUMMARY\")\n",
    "print(\"=\"*70)\n",
    "\n",
    "total_cases_all = sum(enhanced_reclassified_results[g]['total'] for g in groups)\n",
    "total_process_compliant = sum(enhanced_reclassified_results[g]['process_compliant'] for g in groups)\n",
    "total_cost_compliant = sum(enhanced_reclassified_results[g]['cost_compliant'] for g in groups)\n",
    "total_fully_compliant = sum(enhanced_reclassified_results[g]['fully_compliant'] for g in groups)\n",
    "total_cost_deviation = sum(enhanced_reclassified_results[g]['total_cost_deviation'] for g in groups)\n",
    "\n",
    "print(f\"Overall Statistics across all {len(groups)} process groups:\")\n",
    "print(f\"  📊 Total cases analyzed: {total_cases_all:,}\")\n",
    "print(f\"  🔄 Process compliance: {total_process_compliant:,} ({total_process_compliant/total_cases_all*100:.2f}%)\")\n",
    "print(f\"  💰 Cost compliance: {total_cost_compliant:,} ({total_cost_compliant/total_cases_all*100:.2f}%)\")\n",
    "print(f\"  ✅ Full compliance: {total_fully_compliant:,} ({total_fully_compliant/total_cases_all*100:.2f}%)\")\n",
    "print(f\"  💸 Total cost deviation: €{total_cost_deviation:,.2f}\")\n",
    "\n",
    "print(f\"\\nCompliance Gap Analysis:\")\n",
    "process_gap = total_process_compliant - total_fully_compliant\n",
    "cost_gap = total_cost_compliant - total_fully_compliant\n",
    "print(f\"  📉 Cases failing cost validation: {process_gap:,}\")\n",
    "print(f\"  📉 Cases failing process validation: {cost_gap:,}\")\n",
    "\n",
    "# Identify most problematic category\n",
    "worst_compliance = min(groups, key=lambda g: enhanced_reclassified_results[g]['full_compliance_rate'])\n",
    "best_compliance = max(groups, key=lambda g: enhanced_reclassified_results[g]['full_compliance_rate'])\n",
    "\n",
    "print(f\"\\nCategory Analysis:\")\n",
    "print(f\"  🚨 Most problematic: {worst_compliance} ({enhanced_reclassified_results[worst_compliance]['full_compliance_rate']:.2f}% full compliance)\")\n",
    "print(f\"  ✅ Best performing: {best_compliance} ({enhanced_reclassified_results[best_compliance]['full_compliance_rate']:.2f}% full compliance)\")"
   ]
  }
 ],
 "metadata": {
  "kernelspec": {
   "display_name": ".venv",
   "language": "python",
   "name": "python3"
  },
  "language_info": {
   "codemirror_mode": {
    "name": "ipython",
    "version": 3
   },
   "file_extension": ".py",
   "mimetype": "text/x-python",
   "name": "python",
   "nbconvert_exporter": "python",
   "pygments_lexer": "ipython3",
   "version": "3.12.3"
  }
 },
 "nbformat": 4,
 "nbformat_minor": 5
}
