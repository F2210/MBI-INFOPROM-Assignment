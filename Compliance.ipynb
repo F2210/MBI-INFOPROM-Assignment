{
 "cells": [
  {
   "cell_type": "code",
   "execution_count": 1,
   "metadata": {},
   "outputs": [],
   "source": [
    "##############################\n",
    "####  Importing XES files  ###\n",
    "##############################\n",
    "import os\n",
    "import pm4py\n",
    "from pm4py.objects.log.importer.xes import importer as xes_importer\n",
    "from pm4py.util import constants\n",
    "import pandas as pd\n",
    "from pm4py.objects.log.util import dataframe_utils\n",
    "from pm4py.objects.conversion.log import converter as filtered_log_converter\n",
    "from pm4py.objects.conversion.log import converter as log_converter"
   ]
  },
  {
   "cell_type": "code",
   "execution_count": 2,
   "metadata": {},
   "outputs": [
    {
     "name": "stderr",
     "output_type": "stream",
     "text": [
      "/home/jaccobroeren/server/promAssignment/.venv/lib/python3.12/site-packages/tqdm/auto.py:21: TqdmWarning: IProgress not found. Please update jupyter and ipywidgets. See https://ipywidgets.readthedocs.io/en/stable/user_install.html\n",
      "  from .autonotebook import tqdm as notebook_tqdm\n",
      "parsing log, completed traces :: 100%|██████████| 199867/199867 [01:04<00:00, 3106.15it/s]"
     ]
    },
    {
     "name": "stdout",
     "output_type": "stream",
     "text": [
      "Number of events: 199867\n"
     ]
    },
    {
     "name": "stderr",
     "output_type": "stream",
     "text": [
      "\n"
     ]
    }
   ],
   "source": [
    "log = xes_importer.apply('./data/BPI_Challenge_2019_Time_Filtered.xes')\n",
    "print('Number of events:', len(log))"
   ]
  },
  {
   "cell_type": "code",
   "execution_count": null,
   "metadata": {},
   "outputs": [
    {
     "name": "stdout",
     "output_type": "stream",
     "text": [
      "{'Spend area text': 'Packaging', 'Company': 'companyID_0000', 'Document Type': 'Standard PO', 'Sub spend area text': 'Labels', 'Purchasing Document': '4507000221', 'Purch. Doc. Category name': 'Purchase order', 'Vendor': 'vendorID_0103', 'Item Type': 'Standard', 'Item Category': '3-way match, invoice before GR', 'Spend classification text': 'PR', 'Source': 'sourceSystemID_0000', 'Name': 'vendor_0103', 'GR-Based Inv. Verif.': False, 'Item': '00010', 'concept:name': '4507000221_00010', 'Goods Receipt': True}\n",
      "{'Spend area text': 'Packaging', 'Company': 'companyID_0000', 'Document Type': 'Standard PO', 'Sub spend area text': 'Labels', 'Purchasing Document': '4507000222', 'Purch. Doc. Category name': 'Purchase order', 'Vendor': 'vendorID_0103', 'Item Type': 'Standard', 'Item Category': '3-way match, invoice before GR', 'Spend classification text': 'PR', 'Source': 'sourceSystemID_0000', 'Name': 'vendor_0103', 'GR-Based Inv. Verif.': False, 'Item': '00010', 'concept:name': '4507000222_00010', 'Goods Receipt': True}\n",
      "{'Spend area text': 'Packaging', 'Company': 'companyID_0000', 'Document Type': 'Standard PO', 'Sub spend area text': 'Labels', 'Purchasing Document': '4507000222', 'Purch. Doc. Category name': 'Purchase order', 'Vendor': 'vendorID_0103', 'Item Type': 'Standard', 'Item Category': '3-way match, invoice before GR', 'Spend classification text': 'PR', 'Source': 'sourceSystemID_0000', 'Name': 'vendor_0103', 'GR-Based Inv. Verif.': False, 'Item': '00020', 'concept:name': '4507000222_00020', 'Goods Receipt': True}\n",
      "{'Spend area text': 'Packaging', 'Company': 'companyID_0000', 'Document Type': 'Standard PO', 'Sub spend area text': 'Plastic Containers & Lids < 30L', 'Purchasing Document': '4507000223', 'Purch. Doc. Category name': 'Purchase order', 'Vendor': 'vendorID_0104', 'Item Type': 'Standard', 'Item Category': '3-way match, invoice before GR', 'Spend classification text': 'PR', 'Source': 'sourceSystemID_0000', 'Name': 'vendor_0104', 'GR-Based Inv. Verif.': False, 'Item': '00010', 'concept:name': '4507000223_00010', 'Goods Receipt': True}\n",
      "{'Spend area text': 'Packaging', 'Company': 'companyID_0000', 'Document Type': 'Standard PO', 'Sub spend area text': 'Labels', 'Purchasing Document': '4507000224', 'Purch. Doc. Category name': 'Purchase order', 'Vendor': 'vendorID_0105', 'Item Type': 'Standard', 'Item Category': '3-way match, invoice before GR', 'Spend classification text': 'PR', 'Source': 'sourceSystemID_0000', 'Name': 'vendor_0105', 'GR-Based Inv. Verif.': False, 'Item': '00010', 'concept:name': '4507000224_00010', 'Goods Receipt': True}\n",
      "{'Spend area text': 'Packaging', 'Company': 'companyID_0000', 'Document Type': 'Standard PO', 'Sub spend area text': 'Metal Containers & Lids < 30L', 'Purchasing Document': '4507000225', 'Purch. Doc. Category name': 'Purchase order', 'Vendor': 'vendorID_0106', 'Item Type': 'Standard', 'Item Category': '3-way match, invoice before GR', 'Spend classification text': 'PR', 'Source': 'sourceSystemID_0000', 'Name': 'vendor_0106', 'GR-Based Inv. Verif.': False, 'Item': '00010', 'concept:name': '4507000225_00010', 'Goods Receipt': True}\n",
      "{'Spend area text': 'Packaging', 'Company': 'companyID_0000', 'Document Type': 'Standard PO', 'Sub spend area text': 'Metal Containers & Lids < 30L', 'Purchasing Document': '4507000225', 'Purch. Doc. Category name': 'Purchase order', 'Vendor': 'vendorID_0106', 'Item Type': 'Standard', 'Item Category': '3-way match, invoice before GR', 'Spend classification text': 'PR', 'Source': 'sourceSystemID_0000', 'Name': 'vendor_0106', 'GR-Based Inv. Verif.': False, 'Item': '00020', 'concept:name': '4507000225_00020', 'Goods Receipt': True}\n",
      "{'Spend area text': 'Packaging', 'Company': 'companyID_0000', 'Document Type': 'Standard PO', 'Sub spend area text': 'Metal Containers & Lids < 30L', 'Purchasing Document': '4507000225', 'Purch. Doc. Category name': 'Purchase order', 'Vendor': 'vendorID_0106', 'Item Type': 'Standard', 'Item Category': '3-way match, invoice before GR', 'Spend classification text': 'PR', 'Source': 'sourceSystemID_0000', 'Name': 'vendor_0106', 'GR-Based Inv. Verif.': False, 'Item': '00030', 'concept:name': '4507000225_00030', 'Goods Receipt': True}\n",
      "{'Spend area text': 'Packaging', 'Company': 'companyID_0000', 'Document Type': 'Standard PO', 'Sub spend area text': 'Metal Containers & Lids < 30L', 'Purchasing Document': '4507000225', 'Purch. Doc. Category name': 'Purchase order', 'Vendor': 'vendorID_0106', 'Item Type': 'Standard', 'Item Category': '3-way match, invoice before GR', 'Spend classification text': 'PR', 'Source': 'sourceSystemID_0000', 'Name': 'vendor_0106', 'GR-Based Inv. Verif.': False, 'Item': '00040', 'concept:name': '4507000225_00040', 'Goods Receipt': True}\n",
      "{'Spend area text': 'Additives', 'Company': 'companyID_0000', 'Document Type': 'Standard PO', 'Sub spend area text': 'Extenders', 'Purchasing Document': '4507000226', 'Purch. Doc. Category name': 'Purchase order', 'Vendor': 'vendorID_0032', 'Item Type': 'Standard', 'Item Category': '3-way match, invoice before GR', 'Spend classification text': 'PR', 'Source': 'sourceSystemID_0000', 'Name': 'vendor_0032', 'GR-Based Inv. Verif.': False, 'Item': '00010', 'concept:name': '4507000226_00010', 'Goods Receipt': True}\n"
     ]
    }
   ],
   "source": [
    "# print('Number of cases:', len(log))\n",
    "# print('Number of events:', len([i for case in log._list for i in case._list]))\n",
    "# print('Event attributes (columns) in the dataset:')\n",
    "# for attr in pm4py.get_trace_attributes(log):\n",
    "#     print(f\"- {attr}\")\n",
    "\n",
    "# Filter settings\n",
    "START_ACTIVITY_FILTER = [\"Create Purchase Order Item\"]\n",
    "TIME_RANGE_FILTER = {\n",
    "    \"start_date\": \"2018-01-01 00:00:00\",\n",
    "    \"end_date\": \"2025-05-15 00:00:00\",\n",
    "    \"mode\": \"traces_contained\",\n",
    "    \"case_id_key\": \"concept:name\",\n",
    "    \"timestamp_key\": \"time:timestamp\"\n",
    "}\n",
    "\n",
    "# Filter for cases that start with the specified activity\n",
    "filtered_log = pm4py.filter_start_activities(log, START_ACTIVITY_FILTER, retain=True)\n",
    "\n",
    "# Further filter for cases within specified time range\n",
    "filtered_log = pm4py.filter_time_range(\n",
    "    filtered_log,\n",
    "    TIME_RANGE_FILTER[\"start_date\"],\n",
    "    TIME_RANGE_FILTER[\"end_date\"],\n",
    "    mode=TIME_RANGE_FILTER[\"mode\"],\n",
    "    case_id_key=TIME_RANGE_FILTER[\"case_id_key\"],\n",
    "    timestamp_key=TIME_RANGE_FILTER[\"timestamp_key\"]\n",
    ")\n",
    "\n",
    "for case in filtered_log[:10]:\n",
    "    print(case)\n",
    "    print(case.attributes)"
   ]
  },
  {
   "cell_type": "code",
   "execution_count": null,
   "metadata": {},
   "outputs": [
    {
     "ename": "",
     "evalue": "",
     "output_type": "error",
     "traceback": [
      "\u001b[1;31mThe Kernel crashed while executing code in the current cell or a previous cell. \n",
      "\u001b[1;31mPlease review the code in the cell(s) to identify a possible cause of the failure. \n",
      "\u001b[1;31mClick <a href='https://aka.ms/vscodeJupyterKernelCrash'>here</a> for more info. \n",
      "\u001b[1;31mView Jupyter <a href='command:jupyter.viewOutput'>log</a> for further details."
     ]
    }
   ],
   "source": [
    "pm4py.get_event_attributes(log)"
   ]
  },
  {
   "cell_type": "markdown",
   "metadata": {},
   "source": [
    "### Filter for all cases that have started after 01012018 and have started with create purchase order item."
   ]
  },
  {
   "cell_type": "code",
   "execution_count": null,
   "metadata": {},
   "outputs": [
    {
     "name": "stdout",
     "output_type": "stream",
     "text": [
      "Number of cases before filtering: 251734\n",
      "Number of cases after filtering: 199867\n",
      "Number of events before filtering: 1595923\n",
      "Number of events after filtering: 1264983\n"
     ]
    }
   ],
   "source": [
    "# Filter for cases that start with \"create purchase order item\"\n",
    "filtered_log = pm4py.filter_start_activities(log, [\"Create Purchase Order Item\"], retain=True)\n",
    "\n",
    "# Further filter for cases starting after January 1, 2018\n",
    "filtered_log = pm4py.filter_time_range(\n",
    "    filtered_log,\n",
    "    \"2018-01-01 00:00:00\",\n",
    "    \"2025-05-15 00:00:00\",\n",
    "    mode=\"traces_contained\",\n",
    "    case_id_key=\"concept:name\",\n",
    "    timestamp_key=\"time:timestamp\"\n",
    ")\n",
    "\n",
    "# show coverage of the filtered log\n",
    "print(f\"Number of cases before filtering: {len(log)}\")\n",
    "print(f\"Number of cases after filtering: {len(filtered_log)}\")\n",
    "print(f\"Number of events before filtering: {len([i for case in log._list for i in case._list])}\")\n",
    "print(f\"Number of events after filtering: {len([i for case in filtered_log._list for i in case._list])}\")"
   ]
  },
  {
   "cell_type": "code",
   "execution_count": null,
   "metadata": {},
   "outputs": [
    {
     "name": "stdout",
     "output_type": "stream",
     "text": [
      "2018-01-01 02:42:00+00:00\n",
      "2020-04-09 21:59:00+00:00\n"
     ]
    }
   ],
   "source": [
    "print(min(pm4py.get_event_attribute_values(filtered_log, \"time:timestamp\")))\n",
    "print(max(pm4py.get_event_attribute_values(filtered_log, \"time:timestamp\")))"
   ]
  },
  {
   "cell_type": "markdown",
   "metadata": {},
   "source": [
    "### Filter all cases within the timeframe and bucket based on item category"
   ]
  },
  {
   "cell_type": "code",
   "execution_count": null,
   "metadata": {},
   "outputs": [
    {
     "name": "stdout",
     "output_type": "stream",
     "text": [
      "Number of cases in group_3_way_matching_after_GR: 0\n"
     ]
    },
    {
     "name": "stderr",
     "output_type": "stream",
     "text": [
      "exporting log, completed traces :: : 0it [00:00, ?it/s]"
     ]
    },
    {
     "name": "stdout",
     "output_type": "stream",
     "text": [
      "Exported group_3_way_matching_after_GR to ./data/group_3_way_matching_after_GR.xes\n"
     ]
    },
    {
     "name": "stderr",
     "output_type": "stream",
     "text": [
      "\n"
     ]
    },
    {
     "name": "stdout",
     "output_type": "stream",
     "text": [
      "Number of cases in group_3_way_matching_before_GR: 0\n"
     ]
    },
    {
     "name": "stderr",
     "output_type": "stream",
     "text": [
      "exporting log, completed traces :: : 0it [00:00, ?it/s]"
     ]
    },
    {
     "name": "stdout",
     "output_type": "stream",
     "text": [
      "Exported group_3_way_matching_before_GR to ./data/group_3_way_matching_before_GR.xes\n"
     ]
    },
    {
     "name": "stderr",
     "output_type": "stream",
     "text": [
      "\n"
     ]
    },
    {
     "name": "stdout",
     "output_type": "stream",
     "text": [
      "Number of cases in group_3_way_matching: 0\n"
     ]
    },
    {
     "name": "stderr",
     "output_type": "stream",
     "text": [
      "exporting log, completed traces :: : 0it [00:00, ?it/s]"
     ]
    },
    {
     "name": "stdout",
     "output_type": "stream",
     "text": [
      "Exported group_3_way_matching to ./data/group_3_way_matching.xes\n"
     ]
    },
    {
     "name": "stderr",
     "output_type": "stream",
     "text": [
      "\n"
     ]
    },
    {
     "name": "stdout",
     "output_type": "stream",
     "text": [
      "Number of cases in group_consignment: 0\n"
     ]
    },
    {
     "name": "stderr",
     "output_type": "stream",
     "text": [
      "exporting log, completed traces :: : 0it [00:00, ?it/s]"
     ]
    },
    {
     "name": "stdout",
     "output_type": "stream",
     "text": [
      "Exported group_consignment to ./data/group_consignment.xes\n"
     ]
    },
    {
     "name": "stderr",
     "output_type": "stream",
     "text": [
      "\n"
     ]
    },
    {
     "ename": "AttributeError",
     "evalue": "module 'pm4py' has no attribute 'filter_log'",
     "output_type": "error",
     "traceback": [
      "\u001b[31m---------------------------------------------------------------------------\u001b[39m",
      "\u001b[31mAttributeError\u001b[39m                            Traceback (most recent call last)",
      "\u001b[36mCell\u001b[39m\u001b[36m \u001b[39m\u001b[32mIn[6]\u001b[39m\u001b[32m, line 35\u001b[39m\n\u001b[32m     32\u001b[39m     \u001b[38;5;28;01mdel\u001b[39;00m group\n\u001b[32m     34\u001b[39m \u001b[38;5;66;03m# Filter out grouped cases to get \"other\" cases\u001b[39;00m\n\u001b[32m---> \u001b[39m\u001b[32m35\u001b[39m group_other = \u001b[43mpm4py\u001b[49m\u001b[43m.\u001b[49m\u001b[43mfilter_log\u001b[49m(\u001b[38;5;28;01mlambda\u001b[39;00m case: case.attributes[\u001b[33m\"\u001b[39m\u001b[33mconcept:name\u001b[39m\u001b[33m\"\u001b[39m] \u001b[38;5;129;01mnot\u001b[39;00m \u001b[38;5;129;01min\u001b[39;00m grouped_case_ids, filtered_log)\n\u001b[32m     36\u001b[39m \u001b[38;5;28mprint\u001b[39m(\u001b[33mf\u001b[39m\u001b[33m\"\u001b[39m\u001b[33mNumber of \u001b[39m\u001b[33m'\u001b[39m\u001b[33mother\u001b[39m\u001b[33m'\u001b[39m\u001b[33m cases: \u001b[39m\u001b[38;5;132;01m{\u001b[39;00m\u001b[38;5;28mlen\u001b[39m(group_other)\u001b[38;5;132;01m}\u001b[39;00m\u001b[33m\"\u001b[39m)\n\u001b[32m     38\u001b[39m \u001b[38;5;66;03m# Export other group\u001b[39;00m\n",
      "\u001b[31mAttributeError\u001b[39m: module 'pm4py' has no attribute 'filter_log'"
     ]
    }
   ],
   "source": [
    "# Define the groups we want to filter\n",
    "item_categories = {\n",
    "    \"group_3_way_matching_after_GR\": [\"3-way match, invoice before GR\"],\n",
    "    \"group_3_way_matching_before_GR\": [\"3-way match, invoice after GR\"],\n",
    "    \"group_3_way_matching\": [\"2-way match\"],\n",
    "    \"group_consignment\": [\"Consignment\"]\n",
    "}\n",
    "\n",
    "# Track cases that have been grouped\n",
    "grouped_case_ids = set()\n",
    "total_cases_before = len(filtered_log)\n",
    "total_events_before = len([i for case in filtered_log._list for i in case._list])\n",
    "\n",
    "# Process each group one by one\n",
    "for group_name, category_values in item_categories.items():\n",
    "    # Filter the log\n",
    "    group = pm4py.filter_event_attribute_values(filtered_log, \"case:Item Category\", category_values, level=\"case\", retain=True)\n",
    "    \n",
    "    # Print stats\n",
    "    print(f\"Number of cases in {group_name}: {len(group)}\")\n",
    "    \n",
    "    # Export to XES file\n",
    "    output_path = f\"./data/{group_name}.xes\"\n",
    "    pm4py.write_xes(group, output_path)\n",
    "    print(f\"Exported {group_name} to {output_path}\")\n",
    "    \n",
    "    # Add case IDs to the grouped set\n",
    "    for case in group:\n",
    "        grouped_case_ids.add(case.attributes[\"concept:name\"])\n",
    "    \n",
    "    # Clear the variable to free memory\n",
    "    del group\n",
    "\n",
    "# Filter out grouped cases to get \"other\" cases\n",
    "group_other = pm4py.filter_log(lambda case: case.attributes[\"concept:name\"] not in grouped_case_ids, filtered_log)\n",
    "print(f\"Number of 'other' cases: {len(group_other)}\")\n",
    "\n",
    "# Export other group\n",
    "pm4py.write_xes(group_other, \"./data/group_other.xes\")\n",
    "print(\"Exported group_other to ./data/group_other.xes\")\n",
    "\n",
    "# Show overall coverage\n",
    "total_grouped_cases = len(grouped_case_ids) + len(group_other)\n",
    "print(f\"\\nSummary:\")\n",
    "print(f\"Number of cases before filtering: {total_cases_before}\")\n",
    "print(f\"Number of cases processed in all groups: {total_grouped_cases}\")\n",
    "print(f\"Number of events before filtering: {total_events_before}\")"
   ]
  }
 ],
 "metadata": {
  "kernelspec": {
   "display_name": ".venv",
   "language": "python",
   "name": "python3"
  },
  "language_info": {
   "codemirror_mode": {
    "name": "ipython",
    "version": 3
   },
   "file_extension": ".py",
   "mimetype": "text/x-python",
   "name": "python",
   "nbconvert_exporter": "python",
   "pygments_lexer": "ipython3",
   "version": "3.12.3"
  }
 },
 "nbformat": 4,
 "nbformat_minor": 5
}
